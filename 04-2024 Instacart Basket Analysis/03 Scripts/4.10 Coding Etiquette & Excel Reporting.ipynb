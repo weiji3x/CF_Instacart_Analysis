{
 "cells": [
  {
   "cell_type": "markdown",
   "id": "6c04e666-0b61-4f57-bfae-e3bc2c877416",
   "metadata": {},
   "source": [
    "## Importing libraries"
   ]
  },
  {
   "cell_type": "code",
   "execution_count": 1,
   "id": "966bba7a-d1af-4509-8634-4f040eb91c32",
   "metadata": {},
   "outputs": [],
   "source": [
    "# Import libraries\n",
    "import pandas as pd\n",
    "import numpy as np\n",
    "import os\n",
    "import matplotlib.pyplot as plt\n",
    "import seaborn as sns\n",
    "import scipy"
   ]
  },
  {
   "cell_type": "markdown",
   "id": "fe9c10fa",
   "metadata": {},
   "source": [
    "# Task 4.10 Part 1"
   ]
  },
  {
   "cell_type": "markdown",
   "id": "8a3eecc6",
   "metadata": {},
   "source": [
    "## 1. Import the data set you exported in Exercise 4.9 into a new Jupyter notebook. This should be the merged version of your data that contains the new customers column."
   ]
  },
  {
   "cell_type": "code",
   "execution_count": 2,
   "id": "64d5b6e7-8aef-443e-9cdb-f29da0998769",
   "metadata": {},
   "outputs": [],
   "source": [
    "# Turn project folder path into a string\n",
    "path = r'C:\\Users\\Admin\\Desktop\\Data Analysis\\Python\\04-2024 Instacart Basket Analysis'"
   ]
  },
  {
   "cell_type": "code",
   "execution_count": 3,
   "id": "1527dad3-5d52-4ab4-b31e-b80561bb3fda",
   "metadata": {},
   "outputs": [
    {
     "data": {
      "text/plain": [
       "'C:\\\\Users\\\\Admin\\\\Desktop\\\\Data Analysis\\\\Python\\\\04-2024 Instacart Basket Analysis'"
      ]
     },
     "execution_count": 3,
     "metadata": {},
     "output_type": "execute_result"
    }
   ],
   "source": [
    "path"
   ]
  },
  {
   "cell_type": "code",
   "execution_count": 4,
   "id": "89c306d7-4d98-4bfc-acca-35396c935ff4",
   "metadata": {},
   "outputs": [],
   "source": [
    "# Import ords_prods_merge_updated.pkl\n",
    "ords_prods_merge = pd.read_pickle(os.path.join(path, '02 Data', 'Prepared Data', 'orders_products_customer_merge.pkl'))"
   ]
  },
  {
   "cell_type": "code",
   "execution_count": 5,
   "id": "9f43f0d7-25c6-4d62-a3f2-f833f1d8797d",
   "metadata": {},
   "outputs": [
    {
     "data": {
      "text/plain": [
       "(32404289, 32)"
      ]
     },
     "execution_count": 5,
     "metadata": {},
     "output_type": "execute_result"
    }
   ],
   "source": [
    "# Checking the shape of ords_prods_merge\n",
    "ords_prods_merge.shape"
   ]
  },
  {
   "cell_type": "code",
   "execution_count": 6,
   "id": "49bb1622-e654-4f1f-ad2d-0254eeb67467",
   "metadata": {
    "scrolled": true
   },
   "outputs": [
    {
     "data": {
      "text/html": [
       "<div>\n",
       "<style scoped>\n",
       "    .dataframe tbody tr th:only-of-type {\n",
       "        vertical-align: middle;\n",
       "    }\n",
       "\n",
       "    .dataframe tbody tr th {\n",
       "        vertical-align: top;\n",
       "    }\n",
       "\n",
       "    .dataframe thead th {\n",
       "        text-align: right;\n",
       "    }\n",
       "</style>\n",
       "<table border=\"1\" class=\"dataframe\">\n",
       "  <thead>\n",
       "    <tr style=\"text-align: right;\">\n",
       "      <th></th>\n",
       "      <th>order_id</th>\n",
       "      <th>user_id</th>\n",
       "      <th>order_number</th>\n",
       "      <th>order_day_of_week</th>\n",
       "      <th>order_hour_of_day</th>\n",
       "      <th>days_since_prior_order</th>\n",
       "      <th>product_id</th>\n",
       "      <th>add_to_cart_order</th>\n",
       "      <th>reordered</th>\n",
       "      <th>product_name</th>\n",
       "      <th>...</th>\n",
       "      <th>first_name</th>\n",
       "      <th>last_name</th>\n",
       "      <th>gender</th>\n",
       "      <th>state</th>\n",
       "      <th>age</th>\n",
       "      <th>date_joined</th>\n",
       "      <th>no_of_dependants</th>\n",
       "      <th>marital_status</th>\n",
       "      <th>income</th>\n",
       "      <th>_merge</th>\n",
       "    </tr>\n",
       "  </thead>\n",
       "  <tbody>\n",
       "    <tr>\n",
       "      <th>0</th>\n",
       "      <td>2539329</td>\n",
       "      <td>1</td>\n",
       "      <td>1</td>\n",
       "      <td>2</td>\n",
       "      <td>8</td>\n",
       "      <td>NaN</td>\n",
       "      <td>196</td>\n",
       "      <td>1</td>\n",
       "      <td>0</td>\n",
       "      <td>Soda</td>\n",
       "      <td>...</td>\n",
       "      <td>Linda</td>\n",
       "      <td>Nguyen</td>\n",
       "      <td>Female</td>\n",
       "      <td>Alabama</td>\n",
       "      <td>31</td>\n",
       "      <td>2/17/2019</td>\n",
       "      <td>3</td>\n",
       "      <td>married</td>\n",
       "      <td>40423</td>\n",
       "      <td>both</td>\n",
       "    </tr>\n",
       "    <tr>\n",
       "      <th>1</th>\n",
       "      <td>2398795</td>\n",
       "      <td>1</td>\n",
       "      <td>2</td>\n",
       "      <td>3</td>\n",
       "      <td>7</td>\n",
       "      <td>15.0</td>\n",
       "      <td>196</td>\n",
       "      <td>1</td>\n",
       "      <td>1</td>\n",
       "      <td>Soda</td>\n",
       "      <td>...</td>\n",
       "      <td>Linda</td>\n",
       "      <td>Nguyen</td>\n",
       "      <td>Female</td>\n",
       "      <td>Alabama</td>\n",
       "      <td>31</td>\n",
       "      <td>2/17/2019</td>\n",
       "      <td>3</td>\n",
       "      <td>married</td>\n",
       "      <td>40423</td>\n",
       "      <td>both</td>\n",
       "    </tr>\n",
       "    <tr>\n",
       "      <th>2</th>\n",
       "      <td>473747</td>\n",
       "      <td>1</td>\n",
       "      <td>3</td>\n",
       "      <td>3</td>\n",
       "      <td>12</td>\n",
       "      <td>21.0</td>\n",
       "      <td>196</td>\n",
       "      <td>1</td>\n",
       "      <td>1</td>\n",
       "      <td>Soda</td>\n",
       "      <td>...</td>\n",
       "      <td>Linda</td>\n",
       "      <td>Nguyen</td>\n",
       "      <td>Female</td>\n",
       "      <td>Alabama</td>\n",
       "      <td>31</td>\n",
       "      <td>2/17/2019</td>\n",
       "      <td>3</td>\n",
       "      <td>married</td>\n",
       "      <td>40423</td>\n",
       "      <td>both</td>\n",
       "    </tr>\n",
       "    <tr>\n",
       "      <th>3</th>\n",
       "      <td>2254736</td>\n",
       "      <td>1</td>\n",
       "      <td>4</td>\n",
       "      <td>4</td>\n",
       "      <td>7</td>\n",
       "      <td>29.0</td>\n",
       "      <td>196</td>\n",
       "      <td>1</td>\n",
       "      <td>1</td>\n",
       "      <td>Soda</td>\n",
       "      <td>...</td>\n",
       "      <td>Linda</td>\n",
       "      <td>Nguyen</td>\n",
       "      <td>Female</td>\n",
       "      <td>Alabama</td>\n",
       "      <td>31</td>\n",
       "      <td>2/17/2019</td>\n",
       "      <td>3</td>\n",
       "      <td>married</td>\n",
       "      <td>40423</td>\n",
       "      <td>both</td>\n",
       "    </tr>\n",
       "    <tr>\n",
       "      <th>4</th>\n",
       "      <td>431534</td>\n",
       "      <td>1</td>\n",
       "      <td>5</td>\n",
       "      <td>4</td>\n",
       "      <td>15</td>\n",
       "      <td>28.0</td>\n",
       "      <td>196</td>\n",
       "      <td>1</td>\n",
       "      <td>1</td>\n",
       "      <td>Soda</td>\n",
       "      <td>...</td>\n",
       "      <td>Linda</td>\n",
       "      <td>Nguyen</td>\n",
       "      <td>Female</td>\n",
       "      <td>Alabama</td>\n",
       "      <td>31</td>\n",
       "      <td>2/17/2019</td>\n",
       "      <td>3</td>\n",
       "      <td>married</td>\n",
       "      <td>40423</td>\n",
       "      <td>both</td>\n",
       "    </tr>\n",
       "  </tbody>\n",
       "</table>\n",
       "<p>5 rows × 32 columns</p>\n",
       "</div>"
      ],
      "text/plain": [
       "   order_id  user_id  order_number  order_day_of_week  order_hour_of_day  \\\n",
       "0   2539329        1             1                  2                  8   \n",
       "1   2398795        1             2                  3                  7   \n",
       "2    473747        1             3                  3                 12   \n",
       "3   2254736        1             4                  4                  7   \n",
       "4    431534        1             5                  4                 15   \n",
       "\n",
       "   days_since_prior_order  product_id  add_to_cart_order  reordered  \\\n",
       "0                     NaN         196                  1          0   \n",
       "1                    15.0         196                  1          1   \n",
       "2                    21.0         196                  1          1   \n",
       "3                    29.0         196                  1          1   \n",
       "4                    28.0         196                  1          1   \n",
       "\n",
       "  product_name  ...  first_name  last_name  gender    state age date_joined  \\\n",
       "0         Soda  ...       Linda     Nguyen  Female  Alabama  31   2/17/2019   \n",
       "1         Soda  ...       Linda     Nguyen  Female  Alabama  31   2/17/2019   \n",
       "2         Soda  ...       Linda     Nguyen  Female  Alabama  31   2/17/2019   \n",
       "3         Soda  ...       Linda     Nguyen  Female  Alabama  31   2/17/2019   \n",
       "4         Soda  ...       Linda     Nguyen  Female  Alabama  31   2/17/2019   \n",
       "\n",
       "   no_of_dependants marital_status  income _merge  \n",
       "0                 3        married   40423   both  \n",
       "1                 3        married   40423   both  \n",
       "2                 3        married   40423   both  \n",
       "3                 3        married   40423   both  \n",
       "4                 3        married   40423   both  \n",
       "\n",
       "[5 rows x 32 columns]"
      ]
     },
     "execution_count": 6,
     "metadata": {},
     "output_type": "execute_result"
    }
   ],
   "source": [
    "# checking the output of ords_prods_merge\n",
    "ords_prods_merge.head()"
   ]
  },
  {
   "cell_type": "code",
   "execution_count": 7,
   "id": "1945a3e1",
   "metadata": {
    "scrolled": false
   },
   "outputs": [
    {
     "name": "stdout",
     "output_type": "stream",
     "text": [
      "<class 'pandas.core.frame.DataFrame'>\n",
      "RangeIndex: 32404289 entries, 0 to 32404288\n",
      "Data columns (total 32 columns):\n",
      " #   Column                  Dtype   \n",
      "---  ------                  -----   \n",
      " 0   order_id                int64   \n",
      " 1   user_id                 int64   \n",
      " 2   order_number            int64   \n",
      " 3   order_day_of_week       int64   \n",
      " 4   order_hour_of_day       int64   \n",
      " 5   days_since_prior_order  float64 \n",
      " 6   product_id              int64   \n",
      " 7   add_to_cart_order       int64   \n",
      " 8   reordered               int64   \n",
      " 9   product_name            object  \n",
      " 10  aisle_id                int64   \n",
      " 11  department_id           int64   \n",
      " 12  prices                  float64 \n",
      " 13  busiest_day             object  \n",
      " 14  busiest_day_new         object  \n",
      " 15  busiest_period_of_day   object  \n",
      " 16  max_order               int64   \n",
      " 17  loyalty_flag            object  \n",
      " 18  avg_spending            float64 \n",
      " 19  Spender_status          object  \n",
      " 20  median_order_days       float64 \n",
      " 21  order_frequency         object  \n",
      " 22  first_name              object  \n",
      " 23  last_name               object  \n",
      " 24  gender                  object  \n",
      " 25  state                   object  \n",
      " 26  age                     int64   \n",
      " 27  date_joined             object  \n",
      " 28  no_of_dependants        int64   \n",
      " 29  marital_status          object  \n",
      " 30  income                  int64   \n",
      " 31  _merge                  category\n",
      "dtypes: category(1), float64(4), int64(14), object(13)\n",
      "memory usage: 7.5+ GB\n"
     ]
    }
   ],
   "source": [
    "#Checking for all columns of ords_prods_merge\n",
    "ords_prods_merge.info()"
   ]
  },
  {
   "cell_type": "code",
   "execution_count": 8,
   "id": "258b249c",
   "metadata": {},
   "outputs": [],
   "source": [
    "# Dropping _merge columns as it not useful for analysis\n",
    "ords_prods_merge = ords_prods_merge.drop(columns = ['_merge'])"
   ]
  },
  {
   "cell_type": "code",
   "execution_count": 9,
   "id": "adb36b49",
   "metadata": {},
   "outputs": [
    {
     "name": "stdout",
     "output_type": "stream",
     "text": [
      "<class 'pandas.core.frame.DataFrame'>\n",
      "RangeIndex: 32404289 entries, 0 to 32404288\n",
      "Data columns (total 31 columns):\n",
      " #   Column                  Dtype  \n",
      "---  ------                  -----  \n",
      " 0   order_id                int64  \n",
      " 1   user_id                 int64  \n",
      " 2   order_number            int64  \n",
      " 3   order_day_of_week       int64  \n",
      " 4   order_hour_of_day       int64  \n",
      " 5   days_since_prior_order  float64\n",
      " 6   product_id              int64  \n",
      " 7   add_to_cart_order       int64  \n",
      " 8   reordered               int64  \n",
      " 9   product_name            object \n",
      " 10  aisle_id                int64  \n",
      " 11  department_id           int64  \n",
      " 12  prices                  float64\n",
      " 13  busiest_day             object \n",
      " 14  busiest_day_new         object \n",
      " 15  busiest_period_of_day   object \n",
      " 16  max_order               int64  \n",
      " 17  loyalty_flag            object \n",
      " 18  avg_spending            float64\n",
      " 19  Spender_status          object \n",
      " 20  median_order_days       float64\n",
      " 21  order_frequency         object \n",
      " 22  first_name              object \n",
      " 23  last_name               object \n",
      " 24  gender                  object \n",
      " 25  state                   object \n",
      " 26  age                     int64  \n",
      " 27  date_joined             object \n",
      " 28  no_of_dependants        int64  \n",
      " 29  marital_status          object \n",
      " 30  income                  int64  \n",
      "dtypes: float64(4), int64(14), object(13)\n",
      "memory usage: 7.5+ GB\n"
     ]
    }
   ],
   "source": [
    "#Checking for if columns '_merge' is dropped\n",
    "ords_prods_merge.info()"
   ]
  },
  {
   "cell_type": "markdown",
   "id": "69fc9f3d",
   "metadata": {},
   "source": [
    "## 2. Consider any security implications that might exist for this new data. You’ll need to address any PII data in the data before continuing your analysis."
   ]
  },
  {
   "cell_type": "code",
   "execution_count": 10,
   "id": "a06632b6",
   "metadata": {},
   "outputs": [],
   "source": [
    "# Dropping 'first_name' and 'last_name' columns as it contains PII data\n",
    "ords_prods_merge = ords_prods_merge.drop(columns = ['first_name', 'last_name'])"
   ]
  },
  {
   "cell_type": "code",
   "execution_count": 11,
   "id": "9c8ef668",
   "metadata": {},
   "outputs": [
    {
     "name": "stdout",
     "output_type": "stream",
     "text": [
      "<class 'pandas.core.frame.DataFrame'>\n",
      "RangeIndex: 32404289 entries, 0 to 32404288\n",
      "Data columns (total 29 columns):\n",
      " #   Column                  Dtype  \n",
      "---  ------                  -----  \n",
      " 0   order_id                int64  \n",
      " 1   user_id                 int64  \n",
      " 2   order_number            int64  \n",
      " 3   order_day_of_week       int64  \n",
      " 4   order_hour_of_day       int64  \n",
      " 5   days_since_prior_order  float64\n",
      " 6   product_id              int64  \n",
      " 7   add_to_cart_order       int64  \n",
      " 8   reordered               int64  \n",
      " 9   product_name            object \n",
      " 10  aisle_id                int64  \n",
      " 11  department_id           int64  \n",
      " 12  prices                  float64\n",
      " 13  busiest_day             object \n",
      " 14  busiest_day_new         object \n",
      " 15  busiest_period_of_day   object \n",
      " 16  max_order               int64  \n",
      " 17  loyalty_flag            object \n",
      " 18  avg_spending            float64\n",
      " 19  Spender_status          object \n",
      " 20  median_order_days       float64\n",
      " 21  order_frequency         object \n",
      " 22  gender                  object \n",
      " 23  state                   object \n",
      " 24  age                     int64  \n",
      " 25  date_joined             object \n",
      " 26  no_of_dependants        int64  \n",
      " 27  marital_status          object \n",
      " 28  income                  int64  \n",
      "dtypes: float64(4), int64(14), object(11)\n",
      "memory usage: 7.0+ GB\n"
     ]
    }
   ],
   "source": [
    "# Checking for if columns 'first_name' and 'last_name' is dropped\n",
    "ords_prods_merge.info()"
   ]
  },
  {
   "cell_type": "code",
   "execution_count": 12,
   "id": "0d7d43d0",
   "metadata": {},
   "outputs": [
    {
     "data": {
      "text/html": [
       "<div>\n",
       "<style scoped>\n",
       "    .dataframe tbody tr th:only-of-type {\n",
       "        vertical-align: middle;\n",
       "    }\n",
       "\n",
       "    .dataframe tbody tr th {\n",
       "        vertical-align: top;\n",
       "    }\n",
       "\n",
       "    .dataframe thead th {\n",
       "        text-align: right;\n",
       "    }\n",
       "</style>\n",
       "<table border=\"1\" class=\"dataframe\">\n",
       "  <thead>\n",
       "    <tr style=\"text-align: right;\">\n",
       "      <th></th>\n",
       "      <th>order_id</th>\n",
       "      <th>user_id</th>\n",
       "      <th>order_number</th>\n",
       "      <th>order_day_of_week</th>\n",
       "      <th>order_hour_of_day</th>\n",
       "      <th>days_since_prior_order</th>\n",
       "      <th>product_id</th>\n",
       "      <th>add_to_cart_order</th>\n",
       "      <th>reordered</th>\n",
       "      <th>product_name</th>\n",
       "      <th>...</th>\n",
       "      <th>Spender_status</th>\n",
       "      <th>median_order_days</th>\n",
       "      <th>order_frequency</th>\n",
       "      <th>gender</th>\n",
       "      <th>state</th>\n",
       "      <th>age</th>\n",
       "      <th>date_joined</th>\n",
       "      <th>no_of_dependants</th>\n",
       "      <th>marital_status</th>\n",
       "      <th>income</th>\n",
       "    </tr>\n",
       "  </thead>\n",
       "  <tbody>\n",
       "    <tr>\n",
       "      <th>0</th>\n",
       "      <td>2539329</td>\n",
       "      <td>1</td>\n",
       "      <td>1</td>\n",
       "      <td>2</td>\n",
       "      <td>8</td>\n",
       "      <td>NaN</td>\n",
       "      <td>196</td>\n",
       "      <td>1</td>\n",
       "      <td>0</td>\n",
       "      <td>Soda</td>\n",
       "      <td>...</td>\n",
       "      <td>Low spender</td>\n",
       "      <td>20.5</td>\n",
       "      <td>Non-frequent customer</td>\n",
       "      <td>Female</td>\n",
       "      <td>Alabama</td>\n",
       "      <td>31</td>\n",
       "      <td>2/17/2019</td>\n",
       "      <td>3</td>\n",
       "      <td>married</td>\n",
       "      <td>40423</td>\n",
       "    </tr>\n",
       "    <tr>\n",
       "      <th>1</th>\n",
       "      <td>2398795</td>\n",
       "      <td>1</td>\n",
       "      <td>2</td>\n",
       "      <td>3</td>\n",
       "      <td>7</td>\n",
       "      <td>15.0</td>\n",
       "      <td>196</td>\n",
       "      <td>1</td>\n",
       "      <td>1</td>\n",
       "      <td>Soda</td>\n",
       "      <td>...</td>\n",
       "      <td>Low spender</td>\n",
       "      <td>20.5</td>\n",
       "      <td>Non-frequent customer</td>\n",
       "      <td>Female</td>\n",
       "      <td>Alabama</td>\n",
       "      <td>31</td>\n",
       "      <td>2/17/2019</td>\n",
       "      <td>3</td>\n",
       "      <td>married</td>\n",
       "      <td>40423</td>\n",
       "    </tr>\n",
       "    <tr>\n",
       "      <th>2</th>\n",
       "      <td>473747</td>\n",
       "      <td>1</td>\n",
       "      <td>3</td>\n",
       "      <td>3</td>\n",
       "      <td>12</td>\n",
       "      <td>21.0</td>\n",
       "      <td>196</td>\n",
       "      <td>1</td>\n",
       "      <td>1</td>\n",
       "      <td>Soda</td>\n",
       "      <td>...</td>\n",
       "      <td>Low spender</td>\n",
       "      <td>20.5</td>\n",
       "      <td>Non-frequent customer</td>\n",
       "      <td>Female</td>\n",
       "      <td>Alabama</td>\n",
       "      <td>31</td>\n",
       "      <td>2/17/2019</td>\n",
       "      <td>3</td>\n",
       "      <td>married</td>\n",
       "      <td>40423</td>\n",
       "    </tr>\n",
       "    <tr>\n",
       "      <th>3</th>\n",
       "      <td>2254736</td>\n",
       "      <td>1</td>\n",
       "      <td>4</td>\n",
       "      <td>4</td>\n",
       "      <td>7</td>\n",
       "      <td>29.0</td>\n",
       "      <td>196</td>\n",
       "      <td>1</td>\n",
       "      <td>1</td>\n",
       "      <td>Soda</td>\n",
       "      <td>...</td>\n",
       "      <td>Low spender</td>\n",
       "      <td>20.5</td>\n",
       "      <td>Non-frequent customer</td>\n",
       "      <td>Female</td>\n",
       "      <td>Alabama</td>\n",
       "      <td>31</td>\n",
       "      <td>2/17/2019</td>\n",
       "      <td>3</td>\n",
       "      <td>married</td>\n",
       "      <td>40423</td>\n",
       "    </tr>\n",
       "    <tr>\n",
       "      <th>4</th>\n",
       "      <td>431534</td>\n",
       "      <td>1</td>\n",
       "      <td>5</td>\n",
       "      <td>4</td>\n",
       "      <td>15</td>\n",
       "      <td>28.0</td>\n",
       "      <td>196</td>\n",
       "      <td>1</td>\n",
       "      <td>1</td>\n",
       "      <td>Soda</td>\n",
       "      <td>...</td>\n",
       "      <td>Low spender</td>\n",
       "      <td>20.5</td>\n",
       "      <td>Non-frequent customer</td>\n",
       "      <td>Female</td>\n",
       "      <td>Alabama</td>\n",
       "      <td>31</td>\n",
       "      <td>2/17/2019</td>\n",
       "      <td>3</td>\n",
       "      <td>married</td>\n",
       "      <td>40423</td>\n",
       "    </tr>\n",
       "    <tr>\n",
       "      <th>5</th>\n",
       "      <td>3367565</td>\n",
       "      <td>1</td>\n",
       "      <td>6</td>\n",
       "      <td>2</td>\n",
       "      <td>7</td>\n",
       "      <td>19.0</td>\n",
       "      <td>196</td>\n",
       "      <td>1</td>\n",
       "      <td>1</td>\n",
       "      <td>Soda</td>\n",
       "      <td>...</td>\n",
       "      <td>Low spender</td>\n",
       "      <td>20.5</td>\n",
       "      <td>Non-frequent customer</td>\n",
       "      <td>Female</td>\n",
       "      <td>Alabama</td>\n",
       "      <td>31</td>\n",
       "      <td>2/17/2019</td>\n",
       "      <td>3</td>\n",
       "      <td>married</td>\n",
       "      <td>40423</td>\n",
       "    </tr>\n",
       "    <tr>\n",
       "      <th>6</th>\n",
       "      <td>550135</td>\n",
       "      <td>1</td>\n",
       "      <td>7</td>\n",
       "      <td>1</td>\n",
       "      <td>9</td>\n",
       "      <td>20.0</td>\n",
       "      <td>196</td>\n",
       "      <td>1</td>\n",
       "      <td>1</td>\n",
       "      <td>Soda</td>\n",
       "      <td>...</td>\n",
       "      <td>Low spender</td>\n",
       "      <td>20.5</td>\n",
       "      <td>Non-frequent customer</td>\n",
       "      <td>Female</td>\n",
       "      <td>Alabama</td>\n",
       "      <td>31</td>\n",
       "      <td>2/17/2019</td>\n",
       "      <td>3</td>\n",
       "      <td>married</td>\n",
       "      <td>40423</td>\n",
       "    </tr>\n",
       "    <tr>\n",
       "      <th>7</th>\n",
       "      <td>3108588</td>\n",
       "      <td>1</td>\n",
       "      <td>8</td>\n",
       "      <td>1</td>\n",
       "      <td>14</td>\n",
       "      <td>14.0</td>\n",
       "      <td>196</td>\n",
       "      <td>2</td>\n",
       "      <td>1</td>\n",
       "      <td>Soda</td>\n",
       "      <td>...</td>\n",
       "      <td>Low spender</td>\n",
       "      <td>20.5</td>\n",
       "      <td>Non-frequent customer</td>\n",
       "      <td>Female</td>\n",
       "      <td>Alabama</td>\n",
       "      <td>31</td>\n",
       "      <td>2/17/2019</td>\n",
       "      <td>3</td>\n",
       "      <td>married</td>\n",
       "      <td>40423</td>\n",
       "    </tr>\n",
       "    <tr>\n",
       "      <th>8</th>\n",
       "      <td>2295261</td>\n",
       "      <td>1</td>\n",
       "      <td>9</td>\n",
       "      <td>1</td>\n",
       "      <td>16</td>\n",
       "      <td>0.0</td>\n",
       "      <td>196</td>\n",
       "      <td>4</td>\n",
       "      <td>1</td>\n",
       "      <td>Soda</td>\n",
       "      <td>...</td>\n",
       "      <td>Low spender</td>\n",
       "      <td>20.5</td>\n",
       "      <td>Non-frequent customer</td>\n",
       "      <td>Female</td>\n",
       "      <td>Alabama</td>\n",
       "      <td>31</td>\n",
       "      <td>2/17/2019</td>\n",
       "      <td>3</td>\n",
       "      <td>married</td>\n",
       "      <td>40423</td>\n",
       "    </tr>\n",
       "    <tr>\n",
       "      <th>9</th>\n",
       "      <td>2550362</td>\n",
       "      <td>1</td>\n",
       "      <td>10</td>\n",
       "      <td>4</td>\n",
       "      <td>8</td>\n",
       "      <td>30.0</td>\n",
       "      <td>196</td>\n",
       "      <td>1</td>\n",
       "      <td>1</td>\n",
       "      <td>Soda</td>\n",
       "      <td>...</td>\n",
       "      <td>Low spender</td>\n",
       "      <td>20.5</td>\n",
       "      <td>Non-frequent customer</td>\n",
       "      <td>Female</td>\n",
       "      <td>Alabama</td>\n",
       "      <td>31</td>\n",
       "      <td>2/17/2019</td>\n",
       "      <td>3</td>\n",
       "      <td>married</td>\n",
       "      <td>40423</td>\n",
       "    </tr>\n",
       "  </tbody>\n",
       "</table>\n",
       "<p>10 rows × 29 columns</p>\n",
       "</div>"
      ],
      "text/plain": [
       "   order_id  user_id  order_number  order_day_of_week  order_hour_of_day  \\\n",
       "0   2539329        1             1                  2                  8   \n",
       "1   2398795        1             2                  3                  7   \n",
       "2    473747        1             3                  3                 12   \n",
       "3   2254736        1             4                  4                  7   \n",
       "4    431534        1             5                  4                 15   \n",
       "5   3367565        1             6                  2                  7   \n",
       "6    550135        1             7                  1                  9   \n",
       "7   3108588        1             8                  1                 14   \n",
       "8   2295261        1             9                  1                 16   \n",
       "9   2550362        1            10                  4                  8   \n",
       "\n",
       "   days_since_prior_order  product_id  add_to_cart_order  reordered  \\\n",
       "0                     NaN         196                  1          0   \n",
       "1                    15.0         196                  1          1   \n",
       "2                    21.0         196                  1          1   \n",
       "3                    29.0         196                  1          1   \n",
       "4                    28.0         196                  1          1   \n",
       "5                    19.0         196                  1          1   \n",
       "6                    20.0         196                  1          1   \n",
       "7                    14.0         196                  2          1   \n",
       "8                     0.0         196                  4          1   \n",
       "9                    30.0         196                  1          1   \n",
       "\n",
       "  product_name  ...  Spender_status  median_order_days        order_frequency  \\\n",
       "0         Soda  ...     Low spender               20.5  Non-frequent customer   \n",
       "1         Soda  ...     Low spender               20.5  Non-frequent customer   \n",
       "2         Soda  ...     Low spender               20.5  Non-frequent customer   \n",
       "3         Soda  ...     Low spender               20.5  Non-frequent customer   \n",
       "4         Soda  ...     Low spender               20.5  Non-frequent customer   \n",
       "5         Soda  ...     Low spender               20.5  Non-frequent customer   \n",
       "6         Soda  ...     Low spender               20.5  Non-frequent customer   \n",
       "7         Soda  ...     Low spender               20.5  Non-frequent customer   \n",
       "8         Soda  ...     Low spender               20.5  Non-frequent customer   \n",
       "9         Soda  ...     Low spender               20.5  Non-frequent customer   \n",
       "\n",
       "   gender    state age  date_joined no_of_dependants  marital_status income  \n",
       "0  Female  Alabama  31    2/17/2019                3         married  40423  \n",
       "1  Female  Alabama  31    2/17/2019                3         married  40423  \n",
       "2  Female  Alabama  31    2/17/2019                3         married  40423  \n",
       "3  Female  Alabama  31    2/17/2019                3         married  40423  \n",
       "4  Female  Alabama  31    2/17/2019                3         married  40423  \n",
       "5  Female  Alabama  31    2/17/2019                3         married  40423  \n",
       "6  Female  Alabama  31    2/17/2019                3         married  40423  \n",
       "7  Female  Alabama  31    2/17/2019                3         married  40423  \n",
       "8  Female  Alabama  31    2/17/2019                3         married  40423  \n",
       "9  Female  Alabama  31    2/17/2019                3         married  40423  \n",
       "\n",
       "[10 rows x 29 columns]"
      ]
     },
     "execution_count": 12,
     "metadata": {},
     "output_type": "execute_result"
    }
   ],
   "source": [
    "# Checking output\n",
    "ords_prods_merge.head(10)"
   ]
  },
  {
   "cell_type": "markdown",
   "id": "5a5acfc8",
   "metadata": {},
   "source": [
    "## 3. The Instacart officers are interested in comparing customer behavior in different geographic areas. Create a regional segmentation of the data. You’ll need to create a “Region” column based on the “State” column from your customers data set.\n",
    "- Use the region information in this Wikipedia article to create your column (you only need to create regions, not divisions).\n",
    "- Determine whether there’s a difference in spending habits between the different U.S. regions. (Hint: You can do this by crossing the variable you just created with the spending flag.)"
   ]
  },
  {
   "cell_type": "code",
   "execution_count": 13,
   "id": "43a35996",
   "metadata": {},
   "outputs": [
    {
     "data": {
      "text/plain": [
       "state\n",
       "Alabama                 637987\n",
       "Alaska                  648491\n",
       "Arizona                 653947\n",
       "Arkansas                636140\n",
       "California              659774\n",
       "Colorado                639270\n",
       "Connecticut             623010\n",
       "Delaware                637012\n",
       "District of Columbia    613690\n",
       "Florida                 629025\n",
       "Georgia                 656381\n",
       "Hawaii                  632894\n",
       "Idaho                   607105\n",
       "Illinois                633011\n",
       "Indiana                 627270\n",
       "Iowa                    625484\n",
       "Kansas                  637527\n",
       "Kentucky                632487\n",
       "Louisiana               637474\n",
       "Maine                   638571\n",
       "Maryland                626567\n",
       "Massachusetts           646355\n",
       "Michigan                630923\n",
       "Minnesota               647808\n",
       "Mississippi             632656\n",
       "Missouri                640719\n",
       "Montana                 635253\n",
       "Nebraska                625792\n",
       "Nevada                  636128\n",
       "New Hampshire           615372\n",
       "New Jersey              627668\n",
       "New Mexico              654486\n",
       "New York                635974\n",
       "North Carolina          651893\n",
       "North Dakota            638482\n",
       "Ohio                    628302\n",
       "Oklahoma                651720\n",
       "Oregon                  636414\n",
       "Pennsylvania            667072\n",
       "Rhode Island            656902\n",
       "South Carolina          636731\n",
       "South Dakota            633763\n",
       "Tennessee               617854\n",
       "Texas                   640380\n",
       "Utah                    611927\n",
       "Vermont                 611719\n",
       "Virginia                641415\n",
       "Washington              632839\n",
       "West Virginia           612287\n",
       "Wisconsin               628089\n",
       "Wyoming                 644249\n",
       "Name: count, dtype: int64"
      ]
     },
     "execution_count": 13,
     "metadata": {},
     "output_type": "execute_result"
    }
   ],
   "source": [
    "# Checking for all the values in 'state' columns\n",
    "ords_prods_merge['state'].value_counts().sort_index()"
   ]
  },
  {
   "cell_type": "code",
   "execution_count": 14,
   "id": "915ccabe",
   "metadata": {},
   "outputs": [],
   "source": [
    "# Creating list for states in 'north_east' region\n",
    "north_east = ['Maine', 'New Hampshire', 'Vermont', 'Massachusetts', 'Rhode Island', 'Connecticut', 'New York', 'Pennsylvania', 'New Jersey']"
   ]
  },
  {
   "cell_type": "code",
   "execution_count": 15,
   "id": "1f4c038b",
   "metadata": {},
   "outputs": [],
   "source": [
    "# Creating list for states in 'mid_west' region\n",
    "mid_west = ['Wisconsin', 'Michigan', 'Illinois', 'Indiana', 'Ohio', 'North Dakota', 'South Dakota', 'Nebraska', 'Kansas', 'Minnesota', 'Iowa', 'Missouri']"
   ]
  },
  {
   "cell_type": "code",
   "execution_count": 16,
   "id": "09462904",
   "metadata": {},
   "outputs": [],
   "source": [
    "# Creating list for states in 'south' region\n",
    "south = ['Delaware', 'Maryland', 'District of Columbia', 'Virginia', 'West Virginia', 'North Carolina', 'South Carolina', 'Georgia', 'Florida', 'Kentucky', 'Tennessee', 'Mississippi', 'Alabama', 'Oklahoma', 'Texas', 'Arkansas', 'Louisiana']"
   ]
  },
  {
   "cell_type": "code",
   "execution_count": 17,
   "id": "34aecb97",
   "metadata": {},
   "outputs": [],
   "source": [
    "# Creating list for states in 'west' region\n",
    "west = ['Idaho', 'Montana', 'Wyoming', 'Nevada', 'Utah', 'Colorado', 'Arizona', 'New Mexico', 'Alaska', 'Washington', 'Oregon', 'California', 'Hawaii']"
   ]
  },
  {
   "cell_type": "code",
   "execution_count": 18,
   "id": "d10bdba9",
   "metadata": {},
   "outputs": [],
   "source": [
    "# Set region to 'north_east' if state is in 'north_east' list\n",
    "ords_prods_merge.loc[ords_prods_merge['state'].isin(north_east), 'region'] = 'north_east'"
   ]
  },
  {
   "cell_type": "code",
   "execution_count": 19,
   "id": "47116758",
   "metadata": {},
   "outputs": [],
   "source": [
    "# Set region to 'mid_west' if state is in 'mid_west' list\n",
    "ords_prods_merge.loc[ords_prods_merge['state'].isin(mid_west), 'region'] = 'mid_west'"
   ]
  },
  {
   "cell_type": "code",
   "execution_count": 20,
   "id": "93d51f9b",
   "metadata": {},
   "outputs": [],
   "source": [
    "# Set region to 'south' if state is in 'south' list\n",
    "ords_prods_merge.loc[ords_prods_merge['state'].isin(south), 'region'] = 'south'"
   ]
  },
  {
   "cell_type": "code",
   "execution_count": 21,
   "id": "660270ba",
   "metadata": {},
   "outputs": [],
   "source": [
    "# Set region to 'west' if state is in 'west' list\n",
    "ords_prods_merge.loc[ords_prods_merge['state'].isin(west), 'region'] = 'west'"
   ]
  },
  {
   "cell_type": "code",
   "execution_count": 22,
   "id": "66b8c15a",
   "metadata": {},
   "outputs": [
    {
     "data": {
      "text/plain": [
       "32404289"
      ]
     },
     "execution_count": 22,
     "metadata": {},
     "output_type": "execute_result"
    }
   ],
   "source": [
    "# Check total count of states columns\n",
    "ords_prods_merge['state'].count()"
   ]
  },
  {
   "cell_type": "code",
   "execution_count": 23,
   "id": "7f1eb5f1",
   "metadata": {},
   "outputs": [
    {
     "data": {
      "text/plain": [
       "32404289"
      ]
     },
     "execution_count": 23,
     "metadata": {},
     "output_type": "execute_result"
    }
   ],
   "source": [
    "# Check total count of region columns\n",
    "ords_prods_merge['region'].count()"
   ]
  },
  {
   "cell_type": "code",
   "execution_count": 24,
   "id": "239198ea",
   "metadata": {},
   "outputs": [
    {
     "data": {
      "text/plain": [
       "region\n",
       "south         10791699\n",
       "west           8292777\n",
       "mid_west       7597170\n",
       "north_east     5722643\n",
       "Name: count, dtype: int64"
      ]
     },
     "execution_count": 24,
     "metadata": {},
     "output_type": "execute_result"
    }
   ],
   "source": [
    "# Check if all values have been assigned a region\n",
    "ords_prods_merge['region'].value_counts()"
   ]
  },
  {
   "cell_type": "code",
   "execution_count": 25,
   "id": "c62dddd2",
   "metadata": {},
   "outputs": [],
   "source": [
    "# Create crosstab between 'region' and 'Spender_status'\n",
    "region_spenderstatus = pd.crosstab(ords_prods_merge['region'], ords_prods_merge['Spender_status'], dropna = False)"
   ]
  },
  {
   "cell_type": "code",
   "execution_count": 26,
   "id": "d4afc18e",
   "metadata": {},
   "outputs": [
    {
     "data": {
      "text/html": [
       "<div>\n",
       "<style scoped>\n",
       "    .dataframe tbody tr th:only-of-type {\n",
       "        vertical-align: middle;\n",
       "    }\n",
       "\n",
       "    .dataframe tbody tr th {\n",
       "        vertical-align: top;\n",
       "    }\n",
       "\n",
       "    .dataframe thead th {\n",
       "        text-align: right;\n",
       "    }\n",
       "</style>\n",
       "<table border=\"1\" class=\"dataframe\">\n",
       "  <thead>\n",
       "    <tr style=\"text-align: right;\">\n",
       "      <th>Spender_status</th>\n",
       "      <th>High spender</th>\n",
       "      <th>Low spender</th>\n",
       "    </tr>\n",
       "    <tr>\n",
       "      <th>region</th>\n",
       "      <th></th>\n",
       "      <th></th>\n",
       "    </tr>\n",
       "  </thead>\n",
       "  <tbody>\n",
       "    <tr>\n",
       "      <th>mid_west</th>\n",
       "      <td>155970</td>\n",
       "      <td>7441200</td>\n",
       "    </tr>\n",
       "    <tr>\n",
       "      <th>north_east</th>\n",
       "      <td>108222</td>\n",
       "      <td>5614421</td>\n",
       "    </tr>\n",
       "    <tr>\n",
       "      <th>south</th>\n",
       "      <td>209682</td>\n",
       "      <td>10582017</td>\n",
       "    </tr>\n",
       "    <tr>\n",
       "      <th>west</th>\n",
       "      <td>160353</td>\n",
       "      <td>8132424</td>\n",
       "    </tr>\n",
       "  </tbody>\n",
       "</table>\n",
       "</div>"
      ],
      "text/plain": [
       "Spender_status  High spender  Low spender\n",
       "region                                   \n",
       "mid_west              155970      7441200\n",
       "north_east            108222      5614421\n",
       "south                 209682     10582017\n",
       "west                  160353      8132424"
      ]
     },
     "execution_count": 26,
     "metadata": {},
     "output_type": "execute_result"
    }
   ],
   "source": [
    "# View crosstab table\n",
    "region_spenderstatus"
   ]
  },
  {
   "cell_type": "code",
   "execution_count": 27,
   "id": "06c8326d",
   "metadata": {},
   "outputs": [],
   "source": [
    "# Creating a column which shows the percentage of high spender vs total\n",
    "region_spenderstatus['percent_high'] = region_spenderstatus['High spender'] / (region_spenderstatus['High spender'] + region_spenderstatus['Low spender']) * 100"
   ]
  },
  {
   "cell_type": "code",
   "execution_count": 28,
   "id": "d6671584",
   "metadata": {},
   "outputs": [],
   "source": [
    "# Creating a column which shows the percentage of low spender vs total\n",
    "region_spenderstatus['percent_low'] = region_spenderstatus['Low spender'] / (region_spenderstatus['High spender'] + region_spenderstatus['Low spender']) * 100"
   ]
  },
  {
   "cell_type": "code",
   "execution_count": 29,
   "id": "392bf8ac",
   "metadata": {},
   "outputs": [
    {
     "data": {
      "text/html": [
       "<div>\n",
       "<style scoped>\n",
       "    .dataframe tbody tr th:only-of-type {\n",
       "        vertical-align: middle;\n",
       "    }\n",
       "\n",
       "    .dataframe tbody tr th {\n",
       "        vertical-align: top;\n",
       "    }\n",
       "\n",
       "    .dataframe thead th {\n",
       "        text-align: right;\n",
       "    }\n",
       "</style>\n",
       "<table border=\"1\" class=\"dataframe\">\n",
       "  <thead>\n",
       "    <tr style=\"text-align: right;\">\n",
       "      <th>Spender_status</th>\n",
       "      <th>High spender</th>\n",
       "      <th>Low spender</th>\n",
       "      <th>percent_high</th>\n",
       "      <th>percent_low</th>\n",
       "    </tr>\n",
       "    <tr>\n",
       "      <th>region</th>\n",
       "      <th></th>\n",
       "      <th></th>\n",
       "      <th></th>\n",
       "      <th></th>\n",
       "    </tr>\n",
       "  </thead>\n",
       "  <tbody>\n",
       "    <tr>\n",
       "      <th>mid_west</th>\n",
       "      <td>155970</td>\n",
       "      <td>7441200</td>\n",
       "      <td>2.053001</td>\n",
       "      <td>97.946999</td>\n",
       "    </tr>\n",
       "    <tr>\n",
       "      <th>north_east</th>\n",
       "      <td>108222</td>\n",
       "      <td>5614421</td>\n",
       "      <td>1.891119</td>\n",
       "      <td>98.108881</td>\n",
       "    </tr>\n",
       "    <tr>\n",
       "      <th>south</th>\n",
       "      <td>209682</td>\n",
       "      <td>10582017</td>\n",
       "      <td>1.942993</td>\n",
       "      <td>98.057007</td>\n",
       "    </tr>\n",
       "    <tr>\n",
       "      <th>west</th>\n",
       "      <td>160353</td>\n",
       "      <td>8132424</td>\n",
       "      <td>1.933647</td>\n",
       "      <td>98.066353</td>\n",
       "    </tr>\n",
       "  </tbody>\n",
       "</table>\n",
       "</div>"
      ],
      "text/plain": [
       "Spender_status  High spender  Low spender  percent_high  percent_low\n",
       "region                                                              \n",
       "mid_west              155970      7441200      2.053001    97.946999\n",
       "north_east            108222      5614421      1.891119    98.108881\n",
       "south                 209682     10582017      1.942993    98.057007\n",
       "west                  160353      8132424      1.933647    98.066353"
      ]
     },
     "execution_count": 29,
     "metadata": {},
     "output_type": "execute_result"
    }
   ],
   "source": [
    "region_spenderstatus"
   ]
  },
  {
   "cell_type": "markdown",
   "id": "9e421cf6",
   "metadata": {},
   "source": [
    "#### From the crosstab table, we can see that the spending habits do not vary significantly across regions as the high spender of all regions contributes to around ~2% of the overall spender, and the low spender contributes to around ~98% of the overall spenders."
   ]
  },
  {
   "cell_type": "markdown",
   "id": "4ecd0c6f",
   "metadata": {},
   "source": [
    "## 4.  The Instacart CFO isn’t interested in customers who don’t generate much revenue for the app. Create an exclusion flag for low-activity customers (customers with less than 5 orders) and exclude them from the data. Make sure you export this sample."
   ]
  },
  {
   "cell_type": "code",
   "execution_count": 30,
   "id": "f20bac66",
   "metadata": {},
   "outputs": [],
   "source": [
    "# If cusomter have order_number < 5, assign 'low activity'\n",
    "ords_prods_merge.loc[ords_prods_merge['order_number'] < 5, 'activity_flag'] = 'low activity'"
   ]
  },
  {
   "cell_type": "code",
   "execution_count": 31,
   "id": "02b7594b",
   "metadata": {},
   "outputs": [],
   "source": [
    "# If cusomter have order_number >= 5, assign 'high activity'\n",
    "ords_prods_merge.loc[ords_prods_merge['order_number'] >= 5, 'activity_flag'] = 'high activity'"
   ]
  },
  {
   "cell_type": "code",
   "execution_count": 32,
   "id": "b62f3af2",
   "metadata": {},
   "outputs": [
    {
     "data": {
      "text/plain": [
       "32404289"
      ]
     },
     "execution_count": 32,
     "metadata": {},
     "output_type": "execute_result"
    }
   ],
   "source": [
    "# Check total count of 'activity_flag' columns\n",
    "ords_prods_merge['activity_flag'].count()"
   ]
  },
  {
   "cell_type": "code",
   "execution_count": 33,
   "id": "60ead1ff",
   "metadata": {},
   "outputs": [
    {
     "data": {
      "text/plain": [
       "activity_flag\n",
       "high activity    24414473\n",
       "low activity      7989816\n",
       "Name: count, dtype: int64"
      ]
     },
     "execution_count": 33,
     "metadata": {},
     "output_type": "execute_result"
    }
   ],
   "source": [
    "# Check if all values have been assigned a 'activity_flag'\n",
    "ords_prods_merge['activity_flag'].value_counts()"
   ]
  },
  {
   "cell_type": "code",
   "execution_count": 34,
   "id": "cf2d28f7",
   "metadata": {},
   "outputs": [],
   "source": [
    "# Create a df which contains only customer with 'high activity' in 'activity_flag' column\n",
    "df_high_activity_cust = ords_prods_merge[ords_prods_merge['activity_flag'] == 'high activity']"
   ]
  },
  {
   "cell_type": "code",
   "execution_count": 35,
   "id": "483cc0c6",
   "metadata": {},
   "outputs": [
    {
     "data": {
      "text/plain": [
       "(24414473, 31)"
      ]
     },
     "execution_count": 35,
     "metadata": {},
     "output_type": "execute_result"
    }
   ],
   "source": [
    "# Checking the shape of df_high_activity_cust\n",
    "df_high_activity_cust.shape"
   ]
  },
  {
   "cell_type": "code",
   "execution_count": 36,
   "id": "be4d6ac0",
   "metadata": {},
   "outputs": [
    {
     "data": {
      "text/html": [
       "<div>\n",
       "<style scoped>\n",
       "    .dataframe tbody tr th:only-of-type {\n",
       "        vertical-align: middle;\n",
       "    }\n",
       "\n",
       "    .dataframe tbody tr th {\n",
       "        vertical-align: top;\n",
       "    }\n",
       "\n",
       "    .dataframe thead th {\n",
       "        text-align: right;\n",
       "    }\n",
       "</style>\n",
       "<table border=\"1\" class=\"dataframe\">\n",
       "  <thead>\n",
       "    <tr style=\"text-align: right;\">\n",
       "      <th></th>\n",
       "      <th>order_id</th>\n",
       "      <th>user_id</th>\n",
       "      <th>order_number</th>\n",
       "      <th>order_day_of_week</th>\n",
       "      <th>order_hour_of_day</th>\n",
       "      <th>days_since_prior_order</th>\n",
       "      <th>product_id</th>\n",
       "      <th>add_to_cart_order</th>\n",
       "      <th>reordered</th>\n",
       "      <th>product_name</th>\n",
       "      <th>...</th>\n",
       "      <th>order_frequency</th>\n",
       "      <th>gender</th>\n",
       "      <th>state</th>\n",
       "      <th>age</th>\n",
       "      <th>date_joined</th>\n",
       "      <th>no_of_dependants</th>\n",
       "      <th>marital_status</th>\n",
       "      <th>income</th>\n",
       "      <th>region</th>\n",
       "      <th>activity_flag</th>\n",
       "    </tr>\n",
       "  </thead>\n",
       "  <tbody>\n",
       "    <tr>\n",
       "      <th>4</th>\n",
       "      <td>431534</td>\n",
       "      <td>1</td>\n",
       "      <td>5</td>\n",
       "      <td>4</td>\n",
       "      <td>15</td>\n",
       "      <td>28.0</td>\n",
       "      <td>196</td>\n",
       "      <td>1</td>\n",
       "      <td>1</td>\n",
       "      <td>Soda</td>\n",
       "      <td>...</td>\n",
       "      <td>Non-frequent customer</td>\n",
       "      <td>Female</td>\n",
       "      <td>Alabama</td>\n",
       "      <td>31</td>\n",
       "      <td>2/17/2019</td>\n",
       "      <td>3</td>\n",
       "      <td>married</td>\n",
       "      <td>40423</td>\n",
       "      <td>south</td>\n",
       "      <td>high activity</td>\n",
       "    </tr>\n",
       "    <tr>\n",
       "      <th>5</th>\n",
       "      <td>3367565</td>\n",
       "      <td>1</td>\n",
       "      <td>6</td>\n",
       "      <td>2</td>\n",
       "      <td>7</td>\n",
       "      <td>19.0</td>\n",
       "      <td>196</td>\n",
       "      <td>1</td>\n",
       "      <td>1</td>\n",
       "      <td>Soda</td>\n",
       "      <td>...</td>\n",
       "      <td>Non-frequent customer</td>\n",
       "      <td>Female</td>\n",
       "      <td>Alabama</td>\n",
       "      <td>31</td>\n",
       "      <td>2/17/2019</td>\n",
       "      <td>3</td>\n",
       "      <td>married</td>\n",
       "      <td>40423</td>\n",
       "      <td>south</td>\n",
       "      <td>high activity</td>\n",
       "    </tr>\n",
       "    <tr>\n",
       "      <th>6</th>\n",
       "      <td>550135</td>\n",
       "      <td>1</td>\n",
       "      <td>7</td>\n",
       "      <td>1</td>\n",
       "      <td>9</td>\n",
       "      <td>20.0</td>\n",
       "      <td>196</td>\n",
       "      <td>1</td>\n",
       "      <td>1</td>\n",
       "      <td>Soda</td>\n",
       "      <td>...</td>\n",
       "      <td>Non-frequent customer</td>\n",
       "      <td>Female</td>\n",
       "      <td>Alabama</td>\n",
       "      <td>31</td>\n",
       "      <td>2/17/2019</td>\n",
       "      <td>3</td>\n",
       "      <td>married</td>\n",
       "      <td>40423</td>\n",
       "      <td>south</td>\n",
       "      <td>high activity</td>\n",
       "    </tr>\n",
       "    <tr>\n",
       "      <th>7</th>\n",
       "      <td>3108588</td>\n",
       "      <td>1</td>\n",
       "      <td>8</td>\n",
       "      <td>1</td>\n",
       "      <td>14</td>\n",
       "      <td>14.0</td>\n",
       "      <td>196</td>\n",
       "      <td>2</td>\n",
       "      <td>1</td>\n",
       "      <td>Soda</td>\n",
       "      <td>...</td>\n",
       "      <td>Non-frequent customer</td>\n",
       "      <td>Female</td>\n",
       "      <td>Alabama</td>\n",
       "      <td>31</td>\n",
       "      <td>2/17/2019</td>\n",
       "      <td>3</td>\n",
       "      <td>married</td>\n",
       "      <td>40423</td>\n",
       "      <td>south</td>\n",
       "      <td>high activity</td>\n",
       "    </tr>\n",
       "    <tr>\n",
       "      <th>8</th>\n",
       "      <td>2295261</td>\n",
       "      <td>1</td>\n",
       "      <td>9</td>\n",
       "      <td>1</td>\n",
       "      <td>16</td>\n",
       "      <td>0.0</td>\n",
       "      <td>196</td>\n",
       "      <td>4</td>\n",
       "      <td>1</td>\n",
       "      <td>Soda</td>\n",
       "      <td>...</td>\n",
       "      <td>Non-frequent customer</td>\n",
       "      <td>Female</td>\n",
       "      <td>Alabama</td>\n",
       "      <td>31</td>\n",
       "      <td>2/17/2019</td>\n",
       "      <td>3</td>\n",
       "      <td>married</td>\n",
       "      <td>40423</td>\n",
       "      <td>south</td>\n",
       "      <td>high activity</td>\n",
       "    </tr>\n",
       "  </tbody>\n",
       "</table>\n",
       "<p>5 rows × 31 columns</p>\n",
       "</div>"
      ],
      "text/plain": [
       "   order_id  user_id  order_number  order_day_of_week  order_hour_of_day  \\\n",
       "4    431534        1             5                  4                 15   \n",
       "5   3367565        1             6                  2                  7   \n",
       "6    550135        1             7                  1                  9   \n",
       "7   3108588        1             8                  1                 14   \n",
       "8   2295261        1             9                  1                 16   \n",
       "\n",
       "   days_since_prior_order  product_id  add_to_cart_order  reordered  \\\n",
       "4                    28.0         196                  1          1   \n",
       "5                    19.0         196                  1          1   \n",
       "6                    20.0         196                  1          1   \n",
       "7                    14.0         196                  2          1   \n",
       "8                     0.0         196                  4          1   \n",
       "\n",
       "  product_name  ...        order_frequency  gender    state age date_joined  \\\n",
       "4         Soda  ...  Non-frequent customer  Female  Alabama  31   2/17/2019   \n",
       "5         Soda  ...  Non-frequent customer  Female  Alabama  31   2/17/2019   \n",
       "6         Soda  ...  Non-frequent customer  Female  Alabama  31   2/17/2019   \n",
       "7         Soda  ...  Non-frequent customer  Female  Alabama  31   2/17/2019   \n",
       "8         Soda  ...  Non-frequent customer  Female  Alabama  31   2/17/2019   \n",
       "\n",
       "  no_of_dependants  marital_status income  region  activity_flag  \n",
       "4                3         married  40423   south  high activity  \n",
       "5                3         married  40423   south  high activity  \n",
       "6                3         married  40423   south  high activity  \n",
       "7                3         married  40423   south  high activity  \n",
       "8                3         married  40423   south  high activity  \n",
       "\n",
       "[5 rows x 31 columns]"
      ]
     },
     "execution_count": 36,
     "metadata": {},
     "output_type": "execute_result"
    }
   ],
   "source": [
    "# Checking the output of df_high_activity_cust\n",
    "df_high_activity_cust.head()"
   ]
  },
  {
   "cell_type": "code",
   "execution_count": 78,
   "id": "bd8a0d87",
   "metadata": {},
   "outputs": [],
   "source": [
    "# Export df_high_activity_cust as pickle file\n",
    "df_high_activity_cust.to_pickle(os.path.join(path, '02 Data','Prepared Data', 'high_activity_customers.pkl'))"
   ]
  },
  {
   "cell_type": "markdown",
   "id": "b5fd6257",
   "metadata": {},
   "source": [
    "## 5. The marketing and business strategy units at Instacart want to create more-relevant marketing strategies for different products and are, thus, curious about customer profiling in their database. Create a profiling variable based on age, income, certain goods in the “department_id” column, and number of dependents. You might also use the “orders_day_of_week” and “order_hour_of_day” columns if you can think of a way they would impact customer profiles. (Hint: As an example, try thinking of what characteristics would lead you to the profile “Single adult” or “Young parent.”)"
   ]
  },
  {
   "cell_type": "code",
   "execution_count": 37,
   "id": "52f4aca4",
   "metadata": {},
   "outputs": [],
   "source": [
    "# Create an age category - young adults is Age <= 35\n",
    "ords_prods_merge.loc[ords_prods_merge['age'] <= 35, 'age_group'] = 'young adults'"
   ]
  },
  {
   "cell_type": "code",
   "execution_count": 38,
   "id": "b81e1eeb",
   "metadata": {},
   "outputs": [],
   "source": [
    "# Create an age category - middle-age adults is Age > 35 and < 60\n",
    "ords_prods_merge.loc[(ords_prods_merge['age'] > 35) & (ords_prods_merge['age'] < 60) , 'age_group'] = 'middle-age'"
   ]
  },
  {
   "cell_type": "code",
   "execution_count": 39,
   "id": "b1ff93a3",
   "metadata": {},
   "outputs": [],
   "source": [
    "# Create an age category - senior is Age >= 60\n",
    "ords_prods_merge.loc[ords_prods_merge['age'] >= 60 , 'age_group'] = 'senior'"
   ]
  },
  {
   "cell_type": "code",
   "execution_count": 40,
   "id": "0a485422",
   "metadata": {},
   "outputs": [
    {
     "data": {
      "text/plain": [
       "32404289"
      ]
     },
     "execution_count": 40,
     "metadata": {},
     "output_type": "execute_result"
    }
   ],
   "source": [
    "# Check total count of 'age_group' columns\n",
    "ords_prods_merge['age_group'].count()"
   ]
  },
  {
   "cell_type": "code",
   "execution_count": 41,
   "id": "df5bef2c",
   "metadata": {},
   "outputs": [
    {
     "data": {
      "text/plain": [
       "age_group\n",
       "middle-age      12190997\n",
       "senior          11067041\n",
       "young adults     9146251\n",
       "Name: count, dtype: int64"
      ]
     },
     "execution_count": 41,
     "metadata": {},
     "output_type": "execute_result"
    }
   ],
   "source": [
    "# Check if all values have been assigned a 'age_group'\n",
    "ords_prods_merge['age_group'].value_counts()"
   ]
  },
  {
   "cell_type": "code",
   "execution_count": 42,
   "id": "6fbad2e8",
   "metadata": {},
   "outputs": [
    {
     "data": {
      "text/plain": [
       "count    3.240429e+07\n",
       "mean     9.943766e+04\n",
       "std      4.305706e+04\n",
       "min      2.590300e+04\n",
       "25%      6.700300e+04\n",
       "50%      9.661700e+04\n",
       "75%      1.279120e+05\n",
       "max      5.939010e+05\n",
       "Name: income, dtype: float64"
      ]
     },
     "execution_count": 42,
     "metadata": {},
     "output_type": "execute_result"
    }
   ],
   "source": [
    "# Checking statistic for income\n",
    "ords_prods_merge['income'].describe()"
   ]
  },
  {
   "cell_type": "code",
   "execution_count": 43,
   "id": "b5f7abea",
   "metadata": {},
   "outputs": [],
   "source": [
    "# Create an income category - 'low income' <= 67000\n",
    "ords_prods_merge.loc[ords_prods_merge['income'] <= 67000, 'income_group'] = 'low income'"
   ]
  },
  {
   "cell_type": "code",
   "execution_count": 44,
   "id": "4ca1c431",
   "metadata": {},
   "outputs": [],
   "source": [
    "# Create an income category - 'middle-low income' is > 67000 and <= 96000\n",
    "ords_prods_merge.loc[(ords_prods_merge['income'] > 67000) & (ords_prods_merge['income'] <= 96000), 'income_group'] = 'middle-low income'"
   ]
  },
  {
   "cell_type": "code",
   "execution_count": 45,
   "id": "6074332e",
   "metadata": {},
   "outputs": [],
   "source": [
    "# Create an income category - 'middle-high income' is > 67000 and < 127000\n",
    "ords_prods_merge.loc[(ords_prods_merge['income'] > 96000) & (ords_prods_merge['income'] < 127000), 'income_group'] = 'middle-high income'"
   ]
  },
  {
   "cell_type": "code",
   "execution_count": 46,
   "id": "d48ab387",
   "metadata": {},
   "outputs": [],
   "source": [
    "# Create an income category - 'high income' >= 127000\n",
    "ords_prods_merge.loc[ords_prods_merge['income'] >= 127000, 'income_group'] = 'high income'"
   ]
  },
  {
   "cell_type": "code",
   "execution_count": 47,
   "id": "c630a197",
   "metadata": {},
   "outputs": [
    {
     "data": {
      "text/plain": [
       "32404289"
      ]
     },
     "execution_count": 47,
     "metadata": {},
     "output_type": "execute_result"
    }
   ],
   "source": [
    "# Check total count of 'income_group' columns\n",
    "ords_prods_merge['income_group'].count()"
   ]
  },
  {
   "cell_type": "code",
   "execution_count": 48,
   "id": "7d0eef27",
   "metadata": {},
   "outputs": [
    {
     "data": {
      "text/plain": [
       "income_group\n",
       "high income           8268892\n",
       "middle-high income    8200231\n",
       "low income            8100663\n",
       "middle-low income     7834503\n",
       "Name: count, dtype: int64"
      ]
     },
     "execution_count": 48,
     "metadata": {},
     "output_type": "execute_result"
    }
   ],
   "source": [
    "# Check if all values have been assigned a 'income_group'\n",
    "ords_prods_merge['income_group'].value_counts()"
   ]
  },
  {
   "cell_type": "code",
   "execution_count": 49,
   "id": "ec8090f6",
   "metadata": {},
   "outputs": [],
   "source": [
    "# Create an dependants_flag - no_of_dependants > 0 = 'family'\n",
    "ords_prods_merge.loc[ords_prods_merge['no_of_dependants'] > 0, 'dependants_flag'] = 'family'"
   ]
  },
  {
   "cell_type": "code",
   "execution_count": 50,
   "id": "9298a798",
   "metadata": {},
   "outputs": [],
   "source": [
    "# Create an dependants_flag - no_of_dependants = 0 = 'alone'\n",
    "ords_prods_merge.loc[ords_prods_merge['no_of_dependants'] == 0, 'dependants_flag'] = 'alone'"
   ]
  },
  {
   "cell_type": "code",
   "execution_count": 51,
   "id": "5d766580",
   "metadata": {},
   "outputs": [
    {
     "data": {
      "text/plain": [
       "32404289"
      ]
     },
     "execution_count": 51,
     "metadata": {},
     "output_type": "execute_result"
    }
   ],
   "source": [
    "# Check total count of 'dependants_flag' columns\n",
    "ords_prods_merge['dependants_flag'].count()"
   ]
  },
  {
   "cell_type": "code",
   "execution_count": 52,
   "id": "55e35665",
   "metadata": {},
   "outputs": [
    {
     "data": {
      "text/plain": [
       "dependants_flag\n",
       "family    24306889\n",
       "alone      8097400\n",
       "Name: count, dtype: int64"
      ]
     },
     "execution_count": 52,
     "metadata": {},
     "output_type": "execute_result"
    }
   ],
   "source": [
    "# Check if all values have been assigned a 'dependants_flag'\n",
    "ords_prods_merge['dependants_flag'].value_counts()"
   ]
  },
  {
   "cell_type": "code",
   "execution_count": 53,
   "id": "e33b49d8",
   "metadata": {},
   "outputs": [],
   "source": [
    "# Create an produce_flag - department_id = 4\n",
    "ords_prods_merge.loc[ords_prods_merge['department_id'] == 4, 'produce_flag'] = 'yes'"
   ]
  },
  {
   "cell_type": "code",
   "execution_count": 54,
   "id": "34191ea4",
   "metadata": {},
   "outputs": [],
   "source": [
    "# Create an produce_flag - department_id != 4\n",
    "ords_prods_merge.loc[ords_prods_merge['department_id'] != 4, 'produce_flag'] = 'no'"
   ]
  },
  {
   "cell_type": "code",
   "execution_count": 55,
   "id": "9442fd71",
   "metadata": {},
   "outputs": [
    {
     "data": {
      "text/plain": [
       "32404289"
      ]
     },
     "execution_count": 55,
     "metadata": {},
     "output_type": "execute_result"
    }
   ],
   "source": [
    "# Check total count of 'produce_flag' columns\n",
    "ords_prods_merge['produce_flag'].count()"
   ]
  },
  {
   "cell_type": "code",
   "execution_count": 56,
   "id": "df81f8e0",
   "metadata": {},
   "outputs": [
    {
     "data": {
      "text/plain": [
       "produce_flag\n",
       "no     22924998\n",
       "yes     9479291\n",
       "Name: count, dtype: int64"
      ]
     },
     "execution_count": 56,
     "metadata": {},
     "output_type": "execute_result"
    }
   ],
   "source": [
    "# Check if all values have been assigned a 'produce_flag'\n",
    "ords_prods_merge['produce_flag'].value_counts()"
   ]
  },
  {
   "cell_type": "markdown",
   "id": "7e43ab6c",
   "metadata": {},
   "source": [
    "## 6. Create an appropriate visualization to show the distribution of profiles."
   ]
  },
  {
   "cell_type": "code",
   "execution_count": 57,
   "id": "968bafa4",
   "metadata": {},
   "outputs": [],
   "source": [
    "# Create subset with just user_id and age_group, dropping duplicate user_id\n",
    "df_age_group = ords_prods_merge[['user_id', 'age_group']].drop_duplicates(subset = 'user_id')"
   ]
  },
  {
   "cell_type": "code",
   "execution_count": 58,
   "id": "ea577e73",
   "metadata": {
    "scrolled": true
   },
   "outputs": [],
   "source": [
    "# Create table for value_counts of age_group\n",
    "age_group_count = df_age_group['age_group'].value_counts()"
   ]
  },
  {
   "cell_type": "code",
   "execution_count": 59,
   "id": "ba080045",
   "metadata": {},
   "outputs": [
    {
     "data": {
      "text/plain": [
       "age_group\n",
       "middle-age      77454\n",
       "senior          70727\n",
       "young adults    58028\n",
       "Name: count, dtype: int64"
      ]
     },
     "execution_count": 59,
     "metadata": {},
     "output_type": "execute_result"
    }
   ],
   "source": [
    "# Show value count of age_group\n",
    "age_group_count"
   ]
  },
  {
   "cell_type": "code",
   "execution_count": 214,
   "id": "6e881a72",
   "metadata": {},
   "outputs": [
    {
     "data": {
      "image/png": "[encoded data removed]",
      "text/plain": [
       "<Figure size 640x480 with 1 Axes>"
      ]
     },
     "metadata": {},
     "output_type": "display_data"
    }
   ],
   "source": [
    "# Create pie chart to show age group distributions\n",
    "plt.pie(age_group_count, labels = age_group_count.index, autopct='%1.1f%%', startangle=135, colors=['#8BC1F7', '#BDE2B9', '#F4B678'], wedgeprops={'edgecolor': 'black'})\n",
    "plt.title('Age Group Distribution')\n",
    "plt.savefig(os.path.join(path, '04 Analysis', 'Visualizations', 'agegroup_pie.png'), bbox_inches = 'tight');"
   ]
  },
  {
   "cell_type": "code",
   "execution_count": 61,
   "id": "b34ba891",
   "metadata": {},
   "outputs": [],
   "source": [
    "# Create subset with just user_id and income_group, dropping duplicate user_id\n",
    "df_income_group = ords_prods_merge[['user_id', 'income_group']].drop_duplicates(subset = 'user_id')"
   ]
  },
  {
   "cell_type": "code",
   "execution_count": 62,
   "id": "10cd5a3f",
   "metadata": {},
   "outputs": [],
   "source": [
    "# Create table for value_counts of income_group\n",
    "income_group_count = df_income_group['income_group'].value_counts()"
   ]
  },
  {
   "cell_type": "code",
   "execution_count": 63,
   "id": "f4e7ec42",
   "metadata": {},
   "outputs": [
    {
     "data": {
      "text/plain": [
       "income_group\n",
       "low income            63160\n",
       "middle-high income    48603\n",
       "high income           48522\n",
       "middle-low income     45924\n",
       "Name: count, dtype: int64"
      ]
     },
     "execution_count": 63,
     "metadata": {},
     "output_type": "execute_result"
    }
   ],
   "source": [
    "income_group_count"
   ]
  },
  {
   "cell_type": "code",
   "execution_count": 215,
   "id": "fccfb0ce",
   "metadata": {},
   "outputs": [
    {
     "data": {
      "image/png": "[encoded data removed]",
      "text/plain": [
       "<Figure size 640x480 with 1 Axes>"
      ]
     },
     "metadata": {},
     "output_type": "display_data"
    }
   ],
   "source": [
    "# Creating bar char for income_group\n",
    "income_group_count.plot.bar(color = ['#8BC1F7', '#BDE2B9', '#F4B678','#B2B0EA'], edgecolor = 'black')\n",
    "plt.title('Income Group Distribution')\n",
    "plt.ylabel('Customers Count')\n",
    "plt.xlabel('')\n",
    "plt.xticks(rotation = 45, ha = 'right') \n",
    "plt.grid(axis='y', linestyle='--', alpha=0.5)\n",
    "plt.savefig(os.path.join(path, '04 Analysis', 'Visualizations', 'incomegroup_bar.png'), bbox_inches = 'tight');"
   ]
  },
  {
   "cell_type": "code",
   "execution_count": 65,
   "id": "31e66250",
   "metadata": {},
   "outputs": [],
   "source": [
    "# Create subset with just user_id and dependants_flag, dropping duplicate user_id\n",
    "df_dependants = ords_prods_merge[['user_id', 'dependants_flag']].drop_duplicates(subset = 'user_id')"
   ]
  },
  {
   "cell_type": "code",
   "execution_count": 66,
   "id": "94c35cd5",
   "metadata": {},
   "outputs": [],
   "source": [
    "# Create table for value_counts of dependants_flag\n",
    "dependants_flag_count = df_dependants['dependants_flag'].value_counts()"
   ]
  },
  {
   "cell_type": "code",
   "execution_count": 67,
   "id": "d9f2f136",
   "metadata": {},
   "outputs": [
    {
     "data": {
      "text/plain": [
       "dependants_flag\n",
       "family    154607\n",
       "alone      51602\n",
       "Name: count, dtype: int64"
      ]
     },
     "execution_count": 67,
     "metadata": {},
     "output_type": "execute_result"
    }
   ],
   "source": [
    "dependants_flag_count"
   ]
  },
  {
   "cell_type": "code",
   "execution_count": 216,
   "id": "9d411d26",
   "metadata": {},
   "outputs": [
    {
     "data": {
      "image/png": "[encoded data removed]",
      "text/plain": [
       "<Figure size 640x480 with 1 Axes>"
      ]
     },
     "metadata": {},
     "output_type": "display_data"
    }
   ],
   "source": [
    "# Create pie chart to show dependants distributions\n",
    "plt.pie(dependants_flag_count, labels = dependants_flag_count.index, autopct='%1.1f%%', startangle=135, colors=['#8BC1F7','#F4B678'], wedgeprops={'edgecolor': 'black'})\n",
    "plt.title('Living Situation Distribution')\n",
    "plt.savefig(os.path.join(path, '04 Analysis', 'Visualizations', 'family_sit_pie.png'), bbox_inches = 'tight');"
   ]
  },
  {
   "cell_type": "markdown",
   "id": "f474fea1",
   "metadata": {},
   "source": [
    "## 7. Aggregate the max, mean, and min variables on a customer-profile level for usage frequency and expenditure."
   ]
  },
  {
   "cell_type": "markdown",
   "id": "a199818b",
   "metadata": {},
   "source": [
    "### Stats for Age Group Distribution"
   ]
  },
  {
   "cell_type": "code",
   "execution_count": 69,
   "id": "142c61c7",
   "metadata": {},
   "outputs": [],
   "source": [
    "# Find order_frequency statistics for each customer in age_group distribution\n",
    "usage_frequency_agegroup = ords_prods_merge.groupby(['age_group', 'user_id'])['max_order'].agg(['min', 'max', 'mean'])"
   ]
  },
  {
   "cell_type": "code",
   "execution_count": 70,
   "id": "98fd47e4",
   "metadata": {},
   "outputs": [],
   "source": [
    "# Find order_frequency statistics for each age_group distribution\n",
    "usage_agegroup_stats = usage_frequency_agegroup.groupby('age_group').agg({'min':'min', 'max':'max', 'mean':'mean'})"
   ]
  },
  {
   "cell_type": "code",
   "execution_count": 71,
   "id": "b955f2e7",
   "metadata": {
    "scrolled": false
   },
   "outputs": [
    {
     "data": {
      "text/html": [
       "<div>\n",
       "<style scoped>\n",
       "    .dataframe tbody tr th:only-of-type {\n",
       "        vertical-align: middle;\n",
       "    }\n",
       "\n",
       "    .dataframe tbody tr th {\n",
       "        vertical-align: top;\n",
       "    }\n",
       "\n",
       "    .dataframe thead th {\n",
       "        text-align: right;\n",
       "    }\n",
       "</style>\n",
       "<table border=\"1\" class=\"dataframe\">\n",
       "  <thead>\n",
       "    <tr style=\"text-align: right;\">\n",
       "      <th></th>\n",
       "      <th>min</th>\n",
       "      <th>max</th>\n",
       "      <th>mean</th>\n",
       "    </tr>\n",
       "    <tr>\n",
       "      <th>age_group</th>\n",
       "      <th></th>\n",
       "      <th></th>\n",
       "      <th></th>\n",
       "    </tr>\n",
       "  </thead>\n",
       "  <tbody>\n",
       "    <tr>\n",
       "      <th>middle-age</th>\n",
       "      <td>3</td>\n",
       "      <td>99</td>\n",
       "      <td>15.649921</td>\n",
       "    </tr>\n",
       "    <tr>\n",
       "      <th>senior</th>\n",
       "      <td>1</td>\n",
       "      <td>99</td>\n",
       "      <td>15.574307</td>\n",
       "    </tr>\n",
       "    <tr>\n",
       "      <th>young adults</th>\n",
       "      <td>3</td>\n",
       "      <td>99</td>\n",
       "      <td>15.530054</td>\n",
       "    </tr>\n",
       "  </tbody>\n",
       "</table>\n",
       "</div>"
      ],
      "text/plain": [
       "              min  max       mean\n",
       "age_group                        \n",
       "middle-age      3   99  15.649921\n",
       "senior          1   99  15.574307\n",
       "young adults    3   99  15.530054"
      ]
     },
     "execution_count": 71,
     "metadata": {},
     "output_type": "execute_result"
    }
   ],
   "source": [
    "# View usage frequency stats between age group\n",
    "usage_agegroup_stats"
   ]
  },
  {
   "cell_type": "code",
   "execution_count": 72,
   "id": "ba526377",
   "metadata": {},
   "outputs": [],
   "source": [
    "# Assign all rows with 'prices' over 100 as nan\n",
    "ords_prods_merge.loc[ords_prods_merge['prices'] > 100, 'prices'] = np.nan"
   ]
  },
  {
   "cell_type": "code",
   "execution_count": 73,
   "id": "5f9ac82c",
   "metadata": {},
   "outputs": [
    {
     "data": {
      "text/plain": [
       "25.0"
      ]
     },
     "execution_count": 73,
     "metadata": {},
     "output_type": "execute_result"
    }
   ],
   "source": [
    "# Check if those values is replaced\n",
    "ords_prods_merge['prices'].max()"
   ]
  },
  {
   "cell_type": "code",
   "execution_count": 74,
   "id": "8d244981",
   "metadata": {},
   "outputs": [],
   "source": [
    "# Find expenditure statistics for each customer in age_group distribution\n",
    "exp_freq_agegroup = ords_prods_merge.groupby(['age_group', 'user_id'])['prices'].agg(['min', 'max', 'mean'])"
   ]
  },
  {
   "cell_type": "code",
   "execution_count": 75,
   "id": "7b7e5ca2",
   "metadata": {},
   "outputs": [],
   "source": [
    "# Find expenditure statistics for each age_group distribution\n",
    "exp_agegroup_stats = exp_freq_agegroup.groupby('age_group').agg({'min':'min', 'max':'max', 'mean':'mean'})"
   ]
  },
  {
   "cell_type": "code",
   "execution_count": 76,
   "id": "59137753",
   "metadata": {},
   "outputs": [
    {
     "data": {
      "text/html": [
       "<div>\n",
       "<style scoped>\n",
       "    .dataframe tbody tr th:only-of-type {\n",
       "        vertical-align: middle;\n",
       "    }\n",
       "\n",
       "    .dataframe tbody tr th {\n",
       "        vertical-align: top;\n",
       "    }\n",
       "\n",
       "    .dataframe thead th {\n",
       "        text-align: right;\n",
       "    }\n",
       "</style>\n",
       "<table border=\"1\" class=\"dataframe\">\n",
       "  <thead>\n",
       "    <tr style=\"text-align: right;\">\n",
       "      <th></th>\n",
       "      <th>min</th>\n",
       "      <th>max</th>\n",
       "      <th>mean</th>\n",
       "    </tr>\n",
       "    <tr>\n",
       "      <th>age_group</th>\n",
       "      <th></th>\n",
       "      <th></th>\n",
       "      <th></th>\n",
       "    </tr>\n",
       "  </thead>\n",
       "  <tbody>\n",
       "    <tr>\n",
       "      <th>middle-age</th>\n",
       "      <td>1.0</td>\n",
       "      <td>25.0</td>\n",
       "      <td>7.751988</td>\n",
       "    </tr>\n",
       "    <tr>\n",
       "      <th>senior</th>\n",
       "      <td>1.0</td>\n",
       "      <td>25.0</td>\n",
       "      <td>7.755305</td>\n",
       "    </tr>\n",
       "    <tr>\n",
       "      <th>young adults</th>\n",
       "      <td>1.0</td>\n",
       "      <td>25.0</td>\n",
       "      <td>7.749422</td>\n",
       "    </tr>\n",
       "  </tbody>\n",
       "</table>\n",
       "</div>"
      ],
      "text/plain": [
       "              min   max      mean\n",
       "age_group                        \n",
       "middle-age    1.0  25.0  7.751988\n",
       "senior        1.0  25.0  7.755305\n",
       "young adults  1.0  25.0  7.749422"
      ]
     },
     "execution_count": 76,
     "metadata": {},
     "output_type": "execute_result"
    }
   ],
   "source": [
    "# View expenditure frequency stats between age group\n",
    "exp_agegroup_stats"
   ]
  },
  {
   "cell_type": "markdown",
   "id": "4c4bee37",
   "metadata": {},
   "source": [
    "### Stats for Income Group Distribution"
   ]
  },
  {
   "cell_type": "code",
   "execution_count": 77,
   "id": "f3af249d",
   "metadata": {},
   "outputs": [],
   "source": [
    "# Find order_frequency statistics for each customer in income_group distribution\n",
    "usage_frequency_income_group = ords_prods_merge.groupby(['income_group', 'user_id'])['max_order'].agg(['min', 'max', 'mean'])"
   ]
  },
  {
   "cell_type": "code",
   "execution_count": 78,
   "id": "04b01a70",
   "metadata": {},
   "outputs": [],
   "source": [
    "# Find order_frequency statistics for each income_group distribution\n",
    "usage_incomegroup_stats = usage_frequency_income_group.groupby('income_group').agg({'min':'min', 'max':'max', 'mean':'mean'})"
   ]
  },
  {
   "cell_type": "code",
   "execution_count": 79,
   "id": "f182e7bb",
   "metadata": {},
   "outputs": [
    {
     "data": {
      "text/html": [
       "<div>\n",
       "<style scoped>\n",
       "    .dataframe tbody tr th:only-of-type {\n",
       "        vertical-align: middle;\n",
       "    }\n",
       "\n",
       "    .dataframe tbody tr th {\n",
       "        vertical-align: top;\n",
       "    }\n",
       "\n",
       "    .dataframe thead th {\n",
       "        text-align: right;\n",
       "    }\n",
       "</style>\n",
       "<table border=\"1\" class=\"dataframe\">\n",
       "  <thead>\n",
       "    <tr style=\"text-align: right;\">\n",
       "      <th></th>\n",
       "      <th>min</th>\n",
       "      <th>max</th>\n",
       "      <th>mean</th>\n",
       "    </tr>\n",
       "    <tr>\n",
       "      <th>income_group</th>\n",
       "      <th></th>\n",
       "      <th></th>\n",
       "      <th></th>\n",
       "    </tr>\n",
       "  </thead>\n",
       "  <tbody>\n",
       "    <tr>\n",
       "      <th>high income</th>\n",
       "      <td>1</td>\n",
       "      <td>99</td>\n",
       "      <td>16.160834</td>\n",
       "    </tr>\n",
       "    <tr>\n",
       "      <th>low income</th>\n",
       "      <td>2</td>\n",
       "      <td>99</td>\n",
       "      <td>14.393920</td>\n",
       "    </tr>\n",
       "    <tr>\n",
       "      <th>middle-high income</th>\n",
       "      <td>2</td>\n",
       "      <td>99</td>\n",
       "      <td>16.008580</td>\n",
       "    </tr>\n",
       "    <tr>\n",
       "      <th>middle-low income</th>\n",
       "      <td>3</td>\n",
       "      <td>99</td>\n",
       "      <td>16.190010</td>\n",
       "    </tr>\n",
       "  </tbody>\n",
       "</table>\n",
       "</div>"
      ],
      "text/plain": [
       "                    min  max       mean\n",
       "income_group                           \n",
       "high income           1   99  16.160834\n",
       "low income            2   99  14.393920\n",
       "middle-high income    2   99  16.008580\n",
       "middle-low income     3   99  16.190010"
      ]
     },
     "execution_count": 79,
     "metadata": {},
     "output_type": "execute_result"
    }
   ],
   "source": [
    "# View usage frequency stats between income group\n",
    "usage_incomegroup_stats"
   ]
  },
  {
   "cell_type": "code",
   "execution_count": 80,
   "id": "28eede89",
   "metadata": {},
   "outputs": [],
   "source": [
    "# Find expenditure statistics for each customer in income_group distribution\n",
    "exp_freq_income_group = ords_prods_merge.groupby(['income_group', 'user_id'])['prices'].agg(['min', 'max', 'mean'])"
   ]
  },
  {
   "cell_type": "code",
   "execution_count": 81,
   "id": "4894c91b",
   "metadata": {},
   "outputs": [],
   "source": [
    "# Find expenditure statistics for each income_group distribution\n",
    "exp_income_group_stats = exp_freq_income_group.groupby('income_group').agg({'min':'min', 'max':'max', 'mean':'mean'})"
   ]
  },
  {
   "cell_type": "code",
   "execution_count": 250,
   "id": "72c5f7b1",
   "metadata": {},
   "outputs": [
    {
     "data": {
      "text/html": [
       "<div>\n",
       "<style scoped>\n",
       "    .dataframe tbody tr th:only-of-type {\n",
       "        vertical-align: middle;\n",
       "    }\n",
       "\n",
       "    .dataframe tbody tr th {\n",
       "        vertical-align: top;\n",
       "    }\n",
       "\n",
       "    .dataframe thead th {\n",
       "        text-align: right;\n",
       "    }\n",
       "</style>\n",
       "<table border=\"1\" class=\"dataframe\">\n",
       "  <thead>\n",
       "    <tr style=\"text-align: right;\">\n",
       "      <th></th>\n",
       "      <th>min</th>\n",
       "      <th>max</th>\n",
       "      <th>mean</th>\n",
       "    </tr>\n",
       "    <tr>\n",
       "      <th>income_group</th>\n",
       "      <th></th>\n",
       "      <th></th>\n",
       "      <th></th>\n",
       "    </tr>\n",
       "  </thead>\n",
       "  <tbody>\n",
       "    <tr>\n",
       "      <th>high income</th>\n",
       "      <td>1.0</td>\n",
       "      <td>25.0</td>\n",
       "      <td>8.079865</td>\n",
       "    </tr>\n",
       "    <tr>\n",
       "      <th>low income</th>\n",
       "      <td>1.0</td>\n",
       "      <td>25.0</td>\n",
       "      <td>6.996981</td>\n",
       "    </tr>\n",
       "    <tr>\n",
       "      <th>middle-high income</th>\n",
       "      <td>1.0</td>\n",
       "      <td>25.0</td>\n",
       "      <td>8.089004</td>\n",
       "    </tr>\n",
       "    <tr>\n",
       "      <th>middle-low income</th>\n",
       "      <td>1.0</td>\n",
       "      <td>25.0</td>\n",
       "      <td>8.089127</td>\n",
       "    </tr>\n",
       "  </tbody>\n",
       "</table>\n",
       "</div>"
      ],
      "text/plain": [
       "                    min   max      mean\n",
       "income_group                           \n",
       "high income         1.0  25.0  8.079865\n",
       "low income          1.0  25.0  6.996981\n",
       "middle-high income  1.0  25.0  8.089004\n",
       "middle-low income   1.0  25.0  8.089127"
      ]
     },
     "execution_count": 250,
     "metadata": {},
     "output_type": "execute_result"
    }
   ],
   "source": [
    "# View expenditure frequency stats between income group\n",
    "exp_income_group_stats"
   ]
  },
  {
   "cell_type": "markdown",
   "id": "828be2e4",
   "metadata": {},
   "source": [
    "### Stats for Living Situation Distribution"
   ]
  },
  {
   "cell_type": "code",
   "execution_count": 82,
   "id": "30e25b63",
   "metadata": {},
   "outputs": [],
   "source": [
    "# Find order_frequency statistics for each customer in living situation distribution\n",
    "usage_frequency_dependants = ords_prods_merge.groupby(['dependants_flag', 'user_id'])['max_order'].agg(['min', 'max', 'mean'])"
   ]
  },
  {
   "cell_type": "code",
   "execution_count": 83,
   "id": "b3f09f8b",
   "metadata": {},
   "outputs": [],
   "source": [
    "# Find order_frequency statistics for each living situation distribution\n",
    "usage_dep_stats = usage_frequency_dependants.groupby('dependants_flag').agg({'min':'min', 'max':'max', 'mean':'mean'})"
   ]
  },
  {
   "cell_type": "code",
   "execution_count": 84,
   "id": "21bc6b97",
   "metadata": {},
   "outputs": [
    {
     "data": {
      "text/html": [
       "<div>\n",
       "<style scoped>\n",
       "    .dataframe tbody tr th:only-of-type {\n",
       "        vertical-align: middle;\n",
       "    }\n",
       "\n",
       "    .dataframe tbody tr th {\n",
       "        vertical-align: top;\n",
       "    }\n",
       "\n",
       "    .dataframe thead th {\n",
       "        text-align: right;\n",
       "    }\n",
       "</style>\n",
       "<table border=\"1\" class=\"dataframe\">\n",
       "  <thead>\n",
       "    <tr style=\"text-align: right;\">\n",
       "      <th></th>\n",
       "      <th>min</th>\n",
       "      <th>max</th>\n",
       "      <th>mean</th>\n",
       "    </tr>\n",
       "    <tr>\n",
       "      <th>dependants_flag</th>\n",
       "      <th></th>\n",
       "      <th></th>\n",
       "      <th></th>\n",
       "    </tr>\n",
       "  </thead>\n",
       "  <tbody>\n",
       "    <tr>\n",
       "      <th>alone</th>\n",
       "      <td>2</td>\n",
       "      <td>99</td>\n",
       "      <td>15.605325</td>\n",
       "    </tr>\n",
       "    <tr>\n",
       "      <th>family</th>\n",
       "      <td>1</td>\n",
       "      <td>99</td>\n",
       "      <td>15.585226</td>\n",
       "    </tr>\n",
       "  </tbody>\n",
       "</table>\n",
       "</div>"
      ],
      "text/plain": [
       "                 min  max       mean\n",
       "dependants_flag                     \n",
       "alone              2   99  15.605325\n",
       "family             1   99  15.585226"
      ]
     },
     "execution_count": 84,
     "metadata": {},
     "output_type": "execute_result"
    }
   ],
   "source": [
    "# View usage frequency stats between living situation\n",
    "usage_dep_stats"
   ]
  },
  {
   "cell_type": "code",
   "execution_count": 85,
   "id": "ef96baac",
   "metadata": {},
   "outputs": [],
   "source": [
    "# Find expenditure statistics for each customer in living situation distribution\n",
    "exp_freq_dep = ords_prods_merge.groupby(['dependants_flag', 'user_id'])['prices'].agg(['min', 'max', 'mean'])"
   ]
  },
  {
   "cell_type": "code",
   "execution_count": 86,
   "id": "6c4c9563",
   "metadata": {},
   "outputs": [],
   "source": [
    "# Find expenditure statistics for each income_group distribution\n",
    "exp_dep_stats = exp_freq_dep.groupby('dependants_flag').agg({'min':'min', 'max':'max', 'mean':'mean'})"
   ]
  },
  {
   "cell_type": "code",
   "execution_count": 87,
   "id": "6b6c8ace",
   "metadata": {},
   "outputs": [
    {
     "data": {
      "text/html": [
       "<div>\n",
       "<style scoped>\n",
       "    .dataframe tbody tr th:only-of-type {\n",
       "        vertical-align: middle;\n",
       "    }\n",
       "\n",
       "    .dataframe tbody tr th {\n",
       "        vertical-align: top;\n",
       "    }\n",
       "\n",
       "    .dataframe thead th {\n",
       "        text-align: right;\n",
       "    }\n",
       "</style>\n",
       "<table border=\"1\" class=\"dataframe\">\n",
       "  <thead>\n",
       "    <tr style=\"text-align: right;\">\n",
       "      <th></th>\n",
       "      <th>min</th>\n",
       "      <th>max</th>\n",
       "      <th>mean</th>\n",
       "    </tr>\n",
       "    <tr>\n",
       "      <th>dependants_flag</th>\n",
       "      <th></th>\n",
       "      <th></th>\n",
       "      <th></th>\n",
       "    </tr>\n",
       "  </thead>\n",
       "  <tbody>\n",
       "    <tr>\n",
       "      <th>alone</th>\n",
       "      <td>1.0</td>\n",
       "      <td>25.0</td>\n",
       "      <td>7.749478</td>\n",
       "    </tr>\n",
       "    <tr>\n",
       "      <th>family</th>\n",
       "      <td>1.0</td>\n",
       "      <td>25.0</td>\n",
       "      <td>7.753381</td>\n",
       "    </tr>\n",
       "  </tbody>\n",
       "</table>\n",
       "</div>"
      ],
      "text/plain": [
       "                 min   max      mean\n",
       "dependants_flag                     \n",
       "alone            1.0  25.0  7.749478\n",
       "family           1.0  25.0  7.753381"
      ]
     },
     "execution_count": 87,
     "metadata": {},
     "output_type": "execute_result"
    }
   ],
   "source": [
    "# View expenditure frequency stats between income group\n",
    "exp_dep_stats"
   ]
  },
  {
   "cell_type": "markdown",
   "id": "ea1f898c",
   "metadata": {},
   "source": [
    "## 8. Compare your customer profiles with regions and departments. Can you identify a link between them? Customers may demonstrate different behaviors across regions, which could make this information important."
   ]
  },
  {
   "cell_type": "code",
   "execution_count": 88,
   "id": "3d23d67e",
   "metadata": {},
   "outputs": [],
   "source": [
    "# Filter dataset by region to show region sales distribution\n",
    "region_dist = ords_prods_merge.groupby('region')['order_id'].count()"
   ]
  },
  {
   "cell_type": "code",
   "execution_count": 89,
   "id": "86e842e8",
   "metadata": {},
   "outputs": [
    {
     "data": {
      "text/plain": [
       "region\n",
       "south         10791699\n",
       "west           8292777\n",
       "mid_west       7597170\n",
       "north_east     5722643\n",
       "Name: order_id, dtype: int64"
      ]
     },
     "execution_count": 89,
     "metadata": {},
     "output_type": "execute_result"
    }
   ],
   "source": [
    "# Show region sales\n",
    "region_dist.sort_values(ascending = False)"
   ]
  },
  {
   "cell_type": "code",
   "execution_count": 90,
   "id": "a8e39c22",
   "metadata": {},
   "outputs": [
    {
     "data": {
      "image/png": "[encoded data removed]",
      "text/plain": [
       "<Figure size 640x480 with 1 Axes>"
      ]
     },
     "metadata": {},
     "output_type": "display_data"
    }
   ],
   "source": [
    "# Create pie chart to show region distributions\n",
    "plt.pie(region_dist, labels = region_dist.index, autopct='%1.1f%%', startangle=122, colors=['#8BC1F7', '#BDE2B9', '#F4B678','#B2B0EA'], wedgeprops={'edgecolor': 'black'})\n",
    "plt.title('Region Sales Distribution');"
   ]
  },
  {
   "cell_type": "code",
   "execution_count": 91,
   "id": "3cfb8096",
   "metadata": {},
   "outputs": [],
   "source": [
    "# Seperate dataset to the 4 different region\n",
    "west_ords = ords_prods_merge.loc[ords_prods_merge['region'] == 'west']\n",
    "south_ords = ords_prods_merge.loc[ords_prods_merge['region'] == 'south']\n",
    "mid_west_ords = ords_prods_merge.loc[ords_prods_merge['region'] == 'mid_west']\n",
    "north_east_ords = ords_prods_merge.loc[ords_prods_merge['region'] == 'north_east']"
   ]
  },
  {
   "cell_type": "code",
   "execution_count": 92,
   "id": "6751f3d8",
   "metadata": {},
   "outputs": [],
   "source": [
    "#Filter the dataset of each region to show region top departments sales\n",
    "west_ords_dept = west_ords.groupby('department_id')['order_id'].count()\n",
    "south_ords_dept = south_ords.groupby('department_id')['order_id'].count()\n",
    "mid_west_ords_dept = mid_west_ords.groupby('department_id')['order_id'].count()\n",
    "north_east_ords_dept = north_east_ords.groupby('department_id')['order_id'].count()"
   ]
  },
  {
   "cell_type": "code",
   "execution_count": 93,
   "id": "1cb67224",
   "metadata": {},
   "outputs": [],
   "source": [
    "# Filter top 5 department sales\n",
    "west_ords_dept_top5 = west_ords_dept.sort_values(ascending = False).head(5)\n",
    "south_ords_dept_top5 = south_ords_dept.sort_values(ascending = False).head(5)\n",
    "mid_west_ords_dept_top5 = mid_west_ords_dept.sort_values(ascending = False).head(5)\n",
    "north_east_ords_dept_top5 = north_east_ords_dept.sort_values(ascending = False).head(5)"
   ]
  },
  {
   "cell_type": "code",
   "execution_count": 94,
   "id": "5c3e1342",
   "metadata": {
    "scrolled": false
   },
   "outputs": [
    {
     "data": {
      "text/plain": [
       "department_id\n",
       "4     2424964\n",
       "16    1383399\n",
       "19     741814\n",
       "7      680191\n",
       "1      571829\n",
       "Name: order_id, dtype: int64"
      ]
     },
     "execution_count": 94,
     "metadata": {},
     "output_type": "execute_result"
    }
   ],
   "source": [
    "# Show west region top 5 department\n",
    "west_ords_dept_top5"
   ]
  },
  {
   "cell_type": "code",
   "execution_count": 95,
   "id": "d4b8ae25",
   "metadata": {
    "scrolled": true
   },
   "outputs": [
    {
     "data": {
      "text/plain": [
       "department_id\n",
       "4     3160551\n",
       "16    1796783\n",
       "19     957346\n",
       "7      898940\n",
       "1      747900\n",
       "Name: order_id, dtype: int64"
      ]
     },
     "execution_count": 95,
     "metadata": {},
     "output_type": "execute_result"
    }
   ],
   "source": [
    "# Show south region top 5 department\n",
    "south_ords_dept_top5"
   ]
  },
  {
   "cell_type": "code",
   "execution_count": 96,
   "id": "447b5c2b",
   "metadata": {},
   "outputs": [
    {
     "data": {
      "text/plain": [
       "department_id\n",
       "4     2227937\n",
       "16    1264070\n",
       "19     673715\n",
       "7      625574\n",
       "1      524096\n",
       "Name: order_id, dtype: int64"
      ]
     },
     "execution_count": 96,
     "metadata": {},
     "output_type": "execute_result"
    }
   ],
   "source": [
    "# Show mid_west region top 5 department\n",
    "mid_west_ords_dept_top5"
   ]
  },
  {
   "cell_type": "code",
   "execution_count": 97,
   "id": "1c332b8d",
   "metadata": {},
   "outputs": [
    {
     "data": {
      "text/plain": [
       "department_id\n",
       "4     1665839\n",
       "16     953933\n",
       "19     514675\n",
       "7      483418\n",
       "1      390918\n",
       "Name: order_id, dtype: int64"
      ]
     },
     "execution_count": 97,
     "metadata": {},
     "output_type": "execute_result"
    }
   ],
   "source": [
    "# Show north_east region top 5 department\n",
    "north_east_ords_dept_top5"
   ]
  },
  {
   "cell_type": "code",
   "execution_count": 209,
   "id": "eeb35169",
   "metadata": {
    "scrolled": false
   },
   "outputs": [
    {
     "data": {
      "image/png": "[encoded data removed]",
      "text/plain": [
       "<Figure size 640x480 with 1 Axes>"
      ]
     },
     "metadata": {},
     "output_type": "display_data"
    }
   ],
   "source": [
    "# Creating bar char for top 5 department sales for West\n",
    "west_ords_dept_top5.plot.bar(color = ['#8BC1F7', '#BDE2B9', '#F4B678','#B2B0EA', '#D2D2D2' ], edgecolor = 'black')\n",
    "plt.title('Top 5 Department Sales in West Region')\n",
    "plt.ylabel('Order Count')\n",
    "plt.xlabel('')\n",
    "plt.grid(axis='y', linestyle='--', alpha=0.5)\n",
    "plt.savefig(os.path.join(path, '04 Analysis', 'Visualizations', 'top5_dept_west.png'), bbox_inches = 'tight');"
   ]
  },
  {
   "cell_type": "code",
   "execution_count": 210,
   "id": "a69ebe42",
   "metadata": {},
   "outputs": [
    {
     "data": {
      "image/png": "[encoded data removed]",
      "text/plain": [
       "<Figure size 640x480 with 1 Axes>"
      ]
     },
     "metadata": {},
     "output_type": "display_data"
    }
   ],
   "source": [
    "# Creating bar char for top 5 department sales for South\n",
    "south_ords_dept_top5.plot.bar(color = ['#8BC1F7', '#BDE2B9', '#F4B678','#B2B0EA', '#D2D2D2' ], edgecolor = 'black')\n",
    "plt.title('Top 5 Department Sales in South Region')\n",
    "plt.ylabel('Order Count')\n",
    "plt.xlabel('')\n",
    "plt.grid(axis='y', linestyle='--', alpha=0.5)\n",
    "plt.savefig(os.path.join(path, '04 Analysis', 'Visualizations', 'top5_dept_south.png'), bbox_inches = 'tight');"
   ]
  },
  {
   "cell_type": "code",
   "execution_count": 212,
   "id": "60151caa",
   "metadata": {},
   "outputs": [
    {
     "data": {
      "image/png": "[encoded data removed]",
      "text/plain": [
       "<Figure size 640x480 with 1 Axes>"
      ]
     },
     "metadata": {},
     "output_type": "display_data"
    }
   ],
   "source": [
    "# Creating bar char for top 5 department sales for mid-west region\n",
    "mid_west_ords_dept_top5.plot.bar(color = ['#8BC1F7', '#BDE2B9', '#F4B678','#B2B0EA', '#D2D2D2' ], edgecolor = 'black')\n",
    "plt.title('Top 5 Department Sales in Mid-West Region')\n",
    "plt.ylabel('Order Count')\n",
    "plt.xlabel('')\n",
    "plt.grid(axis='y', linestyle='--', alpha=0.5)\n",
    "plt.savefig(os.path.join(path, '04 Analysis', 'Visualizations', 'top5_dept_midwest.png'), bbox_inches = 'tight');"
   ]
  },
  {
   "cell_type": "code",
   "execution_count": 213,
   "id": "ee78acfc",
   "metadata": {},
   "outputs": [
    {
     "data": {
      "image/png": "[encoded data removed]",
      "text/plain": [
       "<Figure size 640x480 with 1 Axes>"
      ]
     },
     "metadata": {},
     "output_type": "display_data"
    }
   ],
   "source": [
    "# Creating bar char for top 5 department sales for north-east region\n",
    "north_east_ords_dept_top5.plot.bar(color = ['#8BC1F7', '#BDE2B9', '#F4B678','#B2B0EA', '#D2D2D2' ], edgecolor = 'black')\n",
    "plt.title('Top 5 Department Sales in North-East Region')\n",
    "plt.ylabel('Order Count')\n",
    "plt.xlabel('')\n",
    "plt.grid(axis='y', linestyle='--', alpha=0.5)\n",
    "plt.savefig(os.path.join(path, '04 Analysis', 'Visualizations', 'top5_dept_northeast.png'), bbox_inches = 'tight');"
   ]
  },
  {
   "cell_type": "markdown",
   "id": "58678ef7",
   "metadata": {},
   "source": [
    "### Department 4 (Produce) seems to be the most popular department across all region. All regions have similar top 5 sales for the same departments."
   ]
  },
  {
   "cell_type": "markdown",
   "id": "8ce70bfd",
   "metadata": {},
   "source": [
    "## 9. Other Visualizations"
   ]
  },
  {
   "cell_type": "code",
   "execution_count": 107,
   "id": "ae8ad05b",
   "metadata": {},
   "outputs": [],
   "source": [
    "# Create an price_range category - 'High-range product' if prices > 15\n",
    "ords_prods_merge.loc[ords_prods_merge['prices'] > 15, 'price_range'] = 'High-range product'"
   ]
  },
  {
   "cell_type": "code",
   "execution_count": 108,
   "id": "66b05962",
   "metadata": {},
   "outputs": [],
   "source": [
    "# Create an price_range category - 'Mid-range product' is prices > 5 and <= 15\n",
    "ords_prods_merge.loc[(ords_prods_merge['prices'] > 5) & (ords_prods_merge['prices'] <= 15) , 'price_range'] = 'Mid-range product'"
   ]
  },
  {
   "cell_type": "code",
   "execution_count": 109,
   "id": "f1c7bb05",
   "metadata": {},
   "outputs": [],
   "source": [
    "# Create an price_range category - 'Low-range product' if prices <= 5\n",
    "ords_prods_merge.loc[ords_prods_merge['prices'] <= 5, 'price_range'] = 'Low-range product'"
   ]
  },
  {
   "cell_type": "code",
   "execution_count": 110,
   "id": "d3f9745e",
   "metadata": {},
   "outputs": [
    {
     "data": {
      "text/plain": [
       "32404289"
      ]
     },
     "execution_count": 110,
     "metadata": {},
     "output_type": "execute_result"
    }
   ],
   "source": [
    "# Check total count of 'price_range' columns\n",
    "ords_prods_merge['price_range'].count()"
   ]
  },
  {
   "cell_type": "code",
   "execution_count": 111,
   "id": "86bff3d2",
   "metadata": {},
   "outputs": [
    {
     "data": {
      "text/plain": [
       "price_range\n",
       "Mid-range product     21860852\n",
       "Low-range product     10125759\n",
       "High-range product      412551\n",
       "nan                       5127\n",
       "Name: count, dtype: int64"
      ]
     },
     "execution_count": 111,
     "metadata": {},
     "output_type": "execute_result"
    }
   ],
   "source": [
    "# Check if all values have been assigned a price_range\n",
    "ords_prods_merge['price_range'].value_counts()"
   ]
  },
  {
   "cell_type": "code",
   "execution_count": 128,
   "id": "e097d494",
   "metadata": {},
   "outputs": [],
   "source": [
    "# Filter out data for prices with contain nan\n",
    "price_range_ords = ords_prods_merge.loc[ords_prods_merge['price_range'] != 'nan']"
   ]
  },
  {
   "cell_type": "code",
   "execution_count": 129,
   "id": "82e8076e",
   "metadata": {
    "scrolled": false
   },
   "outputs": [
    {
     "data": {
      "text/plain": [
       "price_range\n",
       "Mid-range product     21860852\n",
       "Low-range product     10125759\n",
       "High-range product      412551\n",
       "Name: count, dtype: int64"
      ]
     },
     "execution_count": 129,
     "metadata": {},
     "output_type": "execute_result"
    }
   ],
   "source": [
    "# Check if data set only contains values that have been assigned a price_range\n",
    "price_range_ords['price_range'].value_counts()"
   ]
  },
  {
   "cell_type": "code",
   "execution_count": 130,
   "id": "ac73ebae",
   "metadata": {},
   "outputs": [],
   "source": [
    "# Create subset with just order_id and price_range\n",
    "df_price_range = price_range_ords[['order_id', 'price_range']]"
   ]
  },
  {
   "cell_type": "code",
   "execution_count": 131,
   "id": "014a4612",
   "metadata": {},
   "outputs": [],
   "source": [
    "# Create table for value_counts of price_range\n",
    "price_range_count = df_price_range['price_range'].value_counts()"
   ]
  },
  {
   "cell_type": "code",
   "execution_count": 132,
   "id": "29eeb08a",
   "metadata": {},
   "outputs": [
    {
     "data": {
      "text/plain": [
       "price_range\n",
       "Mid-range product     21860852\n",
       "Low-range product     10125759\n",
       "High-range product      412551\n",
       "Name: count, dtype: int64"
      ]
     },
     "execution_count": 132,
     "metadata": {},
     "output_type": "execute_result"
    }
   ],
   "source": [
    "price_range_count"
   ]
  },
  {
   "cell_type": "code",
   "execution_count": 135,
   "id": "37871a4f",
   "metadata": {
    "scrolled": false
   },
   "outputs": [
    {
     "data": {
      "image/png": "[encoded data removed]",
      "text/plain": [
       "<Figure size 640x480 with 1 Axes>"
      ]
     },
     "metadata": {},
     "output_type": "display_data"
    }
   ],
   "source": [
    "# Creating bar char for price range catergory for all orders\n",
    "price_range_bar = price_range_count.plot.bar(color = ['#8BC1F7', '#BDE2B9', '#F4B678'], edgecolor = 'black')\n",
    "plt.title('Price Range For All Orders')\n",
    "plt.ylabel('Order Count')\n",
    "plt.xlabel('Price Range')\n",
    "plt.xticks(rotation = 45, ha = 'right')\n",
    "plt.grid(axis='y', linestyle='--', alpha=0.5);"
   ]
  },
  {
   "cell_type": "code",
   "execution_count": 146,
   "id": "212c5b2c",
   "metadata": {},
   "outputs": [],
   "source": [
    "# Filter dataset by department to show sales distribution across department\n",
    "dept_dist = ords_prods_merge.groupby('department_id')['order_id'].count().sort_values(ascending = False)"
   ]
  },
  {
   "cell_type": "code",
   "execution_count": 147,
   "id": "4435c4c4",
   "metadata": {},
   "outputs": [
    {
     "data": {
      "image/png": "[encoded data removed]",
      "text/plain": [
       "<Figure size 640x480 with 1 Axes>"
      ]
     },
     "metadata": {},
     "output_type": "display_data"
    }
   ],
   "source": [
    "# Creating bar char for department order distribution for all orders\n",
    "dept_order = dept_dist.plot.bar(edgecolor = 'black')\n",
    "plt.title('Department Order Distribution')\n",
    "plt.ylabel('Order Count')\n",
    "plt.xlabel('Department_id')\n",
    "plt.grid(axis='y', linestyle='--', alpha=0.5);"
   ]
  },
  {
   "cell_type": "code",
   "execution_count": 150,
   "id": "b02f586e",
   "metadata": {},
   "outputs": [],
   "source": [
    "# Create subset with just user_id and loyalty_flag, dropping duplicate user_id\n",
    "df_loyalty = ords_prods_merge[['user_id', 'loyalty_flag']].drop_duplicates(subset = 'user_id')"
   ]
  },
  {
   "cell_type": "code",
   "execution_count": 151,
   "id": "86c5d85d",
   "metadata": {},
   "outputs": [],
   "source": [
    "# Create table for value_counts of loyalty_flag\n",
    "loyalty_flag_count = df_loyalty['loyalty_flag'].value_counts()"
   ]
  },
  {
   "cell_type": "code",
   "execution_count": 152,
   "id": "99a68ca5",
   "metadata": {
    "scrolled": true
   },
   "outputs": [
    {
     "data": {
      "text/plain": [
       "loyalty_flag\n",
       "New customer        112328\n",
       "Regular customer     76864\n",
       "Loyal customer       17017\n",
       "Name: count, dtype: int64"
      ]
     },
     "execution_count": 152,
     "metadata": {},
     "output_type": "execute_result"
    }
   ],
   "source": [
    "loyalty_flag_count"
   ]
  },
  {
   "cell_type": "code",
   "execution_count": 163,
   "id": "f3c16060",
   "metadata": {
    "scrolled": false
   },
   "outputs": [
    {
     "data": {
      "image/png": "[encoded data removed]",
      "text/plain": [
       "<Figure size 640x480 with 1 Axes>"
      ]
     },
     "metadata": {},
     "output_type": "display_data"
    }
   ],
   "source": [
    "# Create pie chart to show age group distributions\n",
    "loyalty_pie = plt.pie(loyalty_flag_count, labels = loyalty_flag_count.index, autopct='%1.1f%%', startangle=75, colors=['#8BC1F7', '#BDE2B9', '#F4B678'], wedgeprops={'edgecolor': 'black'})\n",
    "plt.title('Customer Loyalty Distribution')\n",
    "plt.savefig(os.path.join(path, '04 Analysis', 'Visualizations', 'loyalty_pie.png'));"
   ]
  },
  {
   "cell_type": "code",
   "execution_count": 173,
   "id": "f20214dc",
   "metadata": {},
   "outputs": [],
   "source": [
    "# Create subset with just loyalty_flag, department_id\n",
    "df_loyalty_dept = ords_prods_merge[['loyalty_flag', 'department_id']]"
   ]
  },
  {
   "cell_type": "code",
   "execution_count": 200,
   "id": "bba7d955",
   "metadata": {},
   "outputs": [],
   "source": [
    "# Seperate dataset to the 3 different loyalty_flag\n",
    "loyal_dept = df_loyalty_dept.loc[df_loyalty_dept['loyalty_flag'] == 'Loyal customer'].groupby('department_id')['loyalty_flag'].count()\n",
    "new_dept = df_loyalty_dept.loc[df_loyalty_dept['loyalty_flag'] == 'New customer'].groupby('department_id')['loyalty_flag'].count()\n",
    "regular_dept = df_loyalty_dept.loc[df_loyalty_dept['loyalty_flag'] == 'Regular customer'].groupby('department_id')['loyalty_flag'].count()"
   ]
  },
  {
   "cell_type": "code",
   "execution_count": 201,
   "id": "0c994f61",
   "metadata": {
    "scrolled": true
   },
   "outputs": [],
   "source": [
    "# Filter top 5 department sales\n",
    "loyal_dept_top5 = loyal_dept.sort_values(ascending = False).head(5)\n",
    "new_dept_top5 = new_dept.sort_values(ascending = False).head(5)\n",
    "regular_dept_top5 = regular_dept.sort_values(ascending = False).head(5)"
   ]
  },
  {
   "cell_type": "code",
   "execution_count": 202,
   "id": "83bff85b",
   "metadata": {
    "scrolled": true
   },
   "outputs": [
    {
     "data": {
      "text/plain": [
       "department_id\n",
       "4     3147376\n",
       "16    1830640\n",
       "19     943150\n",
       "7      855017\n",
       "1      609460\n",
       "Name: loyalty_flag, dtype: int64"
      ]
     },
     "execution_count": 202,
     "metadata": {},
     "output_type": "execute_result"
    }
   ],
   "source": [
    "loyal_dept_top5"
   ]
  },
  {
   "cell_type": "code",
   "execution_count": 203,
   "id": "5214f3c3",
   "metadata": {
    "scrolled": true
   },
   "outputs": [
    {
     "data": {
      "text/plain": [
       "department_id\n",
       "4     1736622\n",
       "16     971457\n",
       "19     534251\n",
       "7      512871\n",
       "1      485283\n",
       "Name: loyalty_flag, dtype: int64"
      ]
     },
     "execution_count": 203,
     "metadata": {},
     "output_type": "execute_result"
    }
   ],
   "source": [
    "new_dept_top5"
   ]
  },
  {
   "cell_type": "code",
   "execution_count": 204,
   "id": "2dcc32e1",
   "metadata": {},
   "outputs": [
    {
     "data": {
      "text/plain": [
       "department_id\n",
       "4     4595293\n",
       "16    2596088\n",
       "19    1410149\n",
       "7     1320235\n",
       "1     1140000\n",
       "Name: loyalty_flag, dtype: int64"
      ]
     },
     "execution_count": 204,
     "metadata": {},
     "output_type": "execute_result"
    }
   ],
   "source": [
    "regular_dept_top5"
   ]
  },
  {
   "cell_type": "code",
   "execution_count": 205,
   "id": "03f4bf7b",
   "metadata": {
    "scrolled": false
   },
   "outputs": [
    {
     "data": {
      "image/png": "[encoded data removed]",
      "text/plain": [
       "<Figure size 640x480 with 1 Axes>"
      ]
     },
     "metadata": {},
     "output_type": "display_data"
    }
   ],
   "source": [
    "# Creating bar char for top 5 department sales for loyal customer\n",
    "loyal_dept_top5.plot.bar(color = ['#8BC1F7', '#BDE2B9', '#F4B678','#B2B0EA', '#D2D2D2'], edgecolor = 'black')\n",
    "plt.title('Top 5 Department Sales For Loyal Customer')\n",
    "plt.ylabel('Order Count')\n",
    "plt.xlabel('')\n",
    "plt.grid(axis='y', linestyle='--', alpha=0.5)\n",
    "plt.savefig(os.path.join(path, '04 Analysis', 'Visualizations', 'top5_dept_loyal.png'), bbox_inches = 'tight');"
   ]
  },
  {
   "cell_type": "code",
   "execution_count": 207,
   "id": "330bb1b2",
   "metadata": {},
   "outputs": [
    {
     "data": {
      "image/png": "[encoded data removed]",
      "text/plain": [
       "<Figure size 640x480 with 1 Axes>"
      ]
     },
     "metadata": {},
     "output_type": "display_data"
    }
   ],
   "source": [
    "# Creating bar char for top 5 department sales for New customer\n",
    "new_dept_top5.plot.bar(color = ['#8BC1F7', '#BDE2B9', '#F4B678','#B2B0EA', '#D2D2D2'], edgecolor = 'black')\n",
    "plt.title('Top 5 Department Sales For New Customer')\n",
    "plt.ylabel('Order Count')\n",
    "plt.xlabel('')\n",
    "plt.grid(axis='y', linestyle='--', alpha=0.5)\n",
    "plt.savefig(os.path.join(path, '04 Analysis', 'Visualizations', 'top5_dept_new.png'), bbox_inches = 'tight');"
   ]
  },
  {
   "cell_type": "code",
   "execution_count": 208,
   "id": "019675bd",
   "metadata": {
    "scrolled": false
   },
   "outputs": [
    {
     "data": {
      "image/png": "[encoded data removed]",
      "text/plain": [
       "<Figure size 640x480 with 1 Axes>"
      ]
     },
     "metadata": {},
     "output_type": "display_data"
    }
   ],
   "source": [
    "# Creating bar char for top 5 department sales for Regular customer\n",
    "regular_dept_top5.plot.bar(color = ['#8BC1F7', '#BDE2B9', '#F4B678','#B2B0EA', '#D2D2D2'], edgecolor = 'black')\n",
    "plt.title('Top 5 Department Sales For Regular Customer')\n",
    "plt.ylabel('Order Count')\n",
    "plt.xlabel('')\n",
    "plt.grid(axis='y', linestyle='--', alpha=0.5)\n",
    "plt.savefig(os.path.join(path, '04 Analysis', 'Visualizations', 'top5_dept_regular.png'), bbox_inches = 'tight');"
   ]
  },
  {
   "cell_type": "code",
   "execution_count": 217,
   "id": "c7b69eac",
   "metadata": {},
   "outputs": [],
   "source": [
    "# Filter out data for prices with contain 'yes' for produce_flag (department 4)\n",
    "produce_ords = ords_prods_merge.loc[ords_prods_merge['produce_flag'] == 'yes']"
   ]
  },
  {
   "cell_type": "code",
   "execution_count": 221,
   "id": "306c6c9a",
   "metadata": {},
   "outputs": [],
   "source": [
    "# Create 3 subset with just age_group, income_group, dependants_flag and produce_flag\n",
    "age_produce = produce_ords[['age_group', 'produce_flag']]\n",
    "income_produce = produce_ords[['income_group', 'produce_flag']]\n",
    "dependants_produce = produce_ords[['dependants_flag', 'produce_flag']]"
   ]
  },
  {
   "cell_type": "code",
   "execution_count": 222,
   "id": "efd3ddfb",
   "metadata": {},
   "outputs": [
    {
     "data": {
      "text/html": [
       "<div>\n",
       "<style scoped>\n",
       "    .dataframe tbody tr th:only-of-type {\n",
       "        vertical-align: middle;\n",
       "    }\n",
       "\n",
       "    .dataframe tbody tr th {\n",
       "        vertical-align: top;\n",
       "    }\n",
       "\n",
       "    .dataframe thead th {\n",
       "        text-align: right;\n",
       "    }\n",
       "</style>\n",
       "<table border=\"1\" class=\"dataframe\">\n",
       "  <thead>\n",
       "    <tr style=\"text-align: right;\">\n",
       "      <th></th>\n",
       "      <th>age_group</th>\n",
       "      <th>produce_flag</th>\n",
       "    </tr>\n",
       "  </thead>\n",
       "  <tbody>\n",
       "    <tr>\n",
       "      <th>63885</th>\n",
       "      <td>young adults</td>\n",
       "      <td>yes</td>\n",
       "    </tr>\n",
       "    <tr>\n",
       "      <th>63886</th>\n",
       "      <td>young adults</td>\n",
       "      <td>yes</td>\n",
       "    </tr>\n",
       "    <tr>\n",
       "      <th>63887</th>\n",
       "      <td>senior</td>\n",
       "      <td>yes</td>\n",
       "    </tr>\n",
       "    <tr>\n",
       "      <th>63888</th>\n",
       "      <td>middle-age</td>\n",
       "      <td>yes</td>\n",
       "    </tr>\n",
       "    <tr>\n",
       "      <th>63889</th>\n",
       "      <td>senior</td>\n",
       "      <td>yes</td>\n",
       "    </tr>\n",
       "  </tbody>\n",
       "</table>\n",
       "</div>"
      ],
      "text/plain": [
       "          age_group produce_flag\n",
       "63885  young adults          yes\n",
       "63886  young adults          yes\n",
       "63887        senior          yes\n",
       "63888    middle-age          yes\n",
       "63889        senior          yes"
      ]
     },
     "execution_count": 222,
     "metadata": {},
     "output_type": "execute_result"
    }
   ],
   "source": [
    "age_produce.head()"
   ]
  },
  {
   "cell_type": "code",
   "execution_count": 232,
   "id": "51e9d809",
   "metadata": {},
   "outputs": [],
   "source": [
    "# Group the data based on the category flag(agegroup, income_group, dependants_flag)\n",
    "age_produce_count = age_produce.groupby('age_group')['produce_flag'].count()\n",
    "income_produce_count = income_produce.groupby('income_group')['produce_flag'].count()\n",
    "dependants_produce_count = dependants_produce.groupby('dependants_flag')['produce_flag'].count()"
   ]
  },
  {
   "cell_type": "code",
   "execution_count": 233,
   "id": "8d4c0a2b",
   "metadata": {
    "scrolled": true
   },
   "outputs": [
    {
     "data": {
      "text/plain": [
       "age_group\n",
       "middle-age      3570047\n",
       "senior          3240599\n",
       "young adults    2668645\n",
       "Name: produce_flag, dtype: int64"
      ]
     },
     "execution_count": 233,
     "metadata": {},
     "output_type": "execute_result"
    }
   ],
   "source": [
    "age_produce_count"
   ]
  },
  {
   "cell_type": "code",
   "execution_count": 235,
   "id": "dd5bdcaf",
   "metadata": {},
   "outputs": [
    {
     "data": {
      "image/png": "[encoded data removed]",
      "text/plain": [
       "<Figure size 640x480 with 1 Axes>"
      ]
     },
     "metadata": {},
     "output_type": "display_data"
    }
   ],
   "source": [
    "# Creating bar char for produce sales for different age group\n",
    "age_produce_count.plot.bar(color = ['#8BC1F7', '#BDE2B9', '#F4B678'], edgecolor = 'black')\n",
    "plt.title('Produce(Department 4) Sales Distribution (Age Group)')\n",
    "plt.ylabel('Order Count')\n",
    "plt.xlabel('')\n",
    "plt.grid(axis='y', linestyle='--', alpha=0.5)\n",
    "plt.xticks(rotation = 45, ha = 'right')\n",
    "plt.savefig(os.path.join(path, '04 Analysis', 'Visualizations', 'dept4_agegroup.png'), bbox_inches = 'tight');"
   ]
  },
  {
   "cell_type": "code",
   "execution_count": 237,
   "id": "6100c682",
   "metadata": {},
   "outputs": [
    {
     "data": {
      "text/plain": [
       "income_group\n",
       "high income           2445058\n",
       "low income            2213704\n",
       "middle-high income    2462259\n",
       "middle-low income     2358270\n",
       "Name: produce_flag, dtype: int64"
      ]
     },
     "execution_count": 237,
     "metadata": {},
     "output_type": "execute_result"
    }
   ],
   "source": [
    "income_produce_count"
   ]
  },
  {
   "cell_type": "code",
   "execution_count": 239,
   "id": "699c1bd7",
   "metadata": {},
   "outputs": [
    {
     "data": {
      "image/png": "[encoded data removed]",
      "text/plain": [
       "<Figure size 640x480 with 1 Axes>"
      ]
     },
     "metadata": {},
     "output_type": "display_data"
    }
   ],
   "source": [
    "# Creating bar char for produce sales for different age group\n",
    "income_produce_count.sort_values(ascending = False).plot.bar(color = ['#BDE2B9', '#F4B678','#B2B0EA','#8BC1F7'], edgecolor = 'black')\n",
    "plt.title('Produce(Department 4) Sales Distribution (Income Group)')\n",
    "plt.ylabel('Order Count')\n",
    "plt.xlabel('')\n",
    "plt.grid(axis='y', linestyle='--', alpha=0.5)\n",
    "plt.xticks(rotation = 45, ha = 'right')\n",
    "plt.savefig(os.path.join(path, '04 Analysis', 'Visualizations', 'dept4_incomegroup.png'), bbox_inches = 'tight');"
   ]
  },
  {
   "cell_type": "code",
   "execution_count": 240,
   "id": "82f9801a",
   "metadata": {},
   "outputs": [
    {
     "data": {
      "text/plain": [
       "dependants_flag\n",
       "alone     2375445\n",
       "family    7103846\n",
       "Name: produce_flag, dtype: int64"
      ]
     },
     "execution_count": 240,
     "metadata": {},
     "output_type": "execute_result"
    }
   ],
   "source": [
    "dependants_produce_count"
   ]
  },
  {
   "cell_type": "code",
   "execution_count": 241,
   "id": "99420030",
   "metadata": {
    "scrolled": false
   },
   "outputs": [
    {
     "data": {
      "image/png": "[encoded data removed]",
      "text/plain": [
       "<Figure size 640x480 with 1 Axes>"
      ]
     },
     "metadata": {},
     "output_type": "display_data"
    }
   ],
   "source": [
    "# Creating bar char for produce sales for different age group\n",
    "dependants_produce_count.sort_values(ascending = False).plot.bar(color = ['#8BC1F7', '#F4B678'], edgecolor = 'black')\n",
    "plt.title('Produce(Department 4) Sales Distribution (Living Situation)')\n",
    "plt.ylabel('Order Count')\n",
    "plt.xlabel('')\n",
    "plt.grid(axis='y', linestyle='--', alpha=0.5)\n",
    "plt.xticks(rotation = 45, ha = 'right')\n",
    "plt.savefig(os.path.join(path, '04 Analysis', 'Visualizations', 'dept4_fam.png'), bbox_inches = 'tight');"
   ]
  },
  {
   "cell_type": "code",
   "execution_count": 259,
   "id": "0602291c",
   "metadata": {},
   "outputs": [
    {
     "data": {
      "text/plain": [
       "(32404289, 36)"
      ]
     },
     "execution_count": 259,
     "metadata": {},
     "output_type": "execute_result"
    }
   ],
   "source": [
    "ords_prods_merge.shape"
   ]
  },
  {
   "cell_type": "code",
   "execution_count": 260,
   "id": "a41f72f9",
   "metadata": {
    "scrolled": false
   },
   "outputs": [
    {
     "name": "stdout",
     "output_type": "stream",
     "text": [
      "<class 'pandas.core.frame.DataFrame'>\n",
      "RangeIndex: 32404289 entries, 0 to 32404288\n",
      "Data columns (total 36 columns):\n",
      " #   Column                  Dtype  \n",
      "---  ------                  -----  \n",
      " 0   order_id                int64  \n",
      " 1   user_id                 int64  \n",
      " 2   order_number            int64  \n",
      " 3   order_day_of_week       int64  \n",
      " 4   order_hour_of_day       int64  \n",
      " 5   days_since_prior_order  float64\n",
      " 6   product_id              int64  \n",
      " 7   add_to_cart_order       int64  \n",
      " 8   reordered               int64  \n",
      " 9   product_name            object \n",
      " 10  aisle_id                int64  \n",
      " 11  department_id           int64  \n",
      " 12  prices                  float64\n",
      " 13  busiest_day             object \n",
      " 14  busiest_day_new         object \n",
      " 15  busiest_period_of_day   object \n",
      " 16  max_order               int64  \n",
      " 17  loyalty_flag            object \n",
      " 18  avg_spending            float64\n",
      " 19  Spender_status          object \n",
      " 20  median_order_days       float64\n",
      " 21  order_frequency         object \n",
      " 22  gender                  object \n",
      " 23  state                   object \n",
      " 24  age                     int64  \n",
      " 25  date_joined             object \n",
      " 26  no_of_dependants        int64  \n",
      " 27  marital_status          object \n",
      " 28  income                  int64  \n",
      " 29  region                  object \n",
      " 30  activity_flag           object \n",
      " 31  age_group               object \n",
      " 32  income_group            object \n",
      " 33  dependants_flag         object \n",
      " 34  produce_flag            object \n",
      " 35  price_range             object \n",
      "dtypes: float64(4), int64(14), object(18)\n",
      "memory usage: 8.7+ GB\n"
     ]
    }
   ],
   "source": [
    "ords_prods_merge.info()"
   ]
  },
  {
   "cell_type": "markdown",
   "id": "35ee866b",
   "metadata": {},
   "source": [
    "## 10. Export"
   ]
  },
  {
   "cell_type": "code",
   "execution_count": 140,
   "id": "528d27a5",
   "metadata": {},
   "outputs": [],
   "source": [
    "# Exporting price_range bar chart as .png image\n",
    "price_range_bar.figure.savefig(os.path.join(path, '04 Analysis', 'Visualizations', 'price_range_barchart.png'), bbox_inches = 'tight')"
   ]
  },
  {
   "cell_type": "code",
   "execution_count": 159,
   "id": "1b9a476c",
   "metadata": {},
   "outputs": [],
   "source": [
    "# Exporting price_range bar chart as .png image\n",
    "dept_order.figure.savefig(os.path.join(path, '04 Analysis', 'Visualizations', 'department_order_barchart.png'), bbox_inches = 'tight')"
   ]
  },
  {
   "cell_type": "code",
   "execution_count": null,
   "id": "83ccaf19",
   "metadata": {},
   "outputs": [],
   "source": []
  }
 ],
 "metadata": {
  "kernelspec": {
   "display_name": "Python 3 (ipykernel)",
   "language": "python",
   "name": "python3"
  },
  "language_info": {
   "codemirror_mode": {
    "name": "ipython",
    "version": 3
   },
   "file_extension": ".py",
   "mimetype": "text/x-python",
   "name": "python",
   "nbconvert_exporter": "python",
   "pygments_lexer": "ipython3",
   "version": "3.11.7"
  }
 },
 "nbformat": 4,
 "nbformat_minor": 5
}
