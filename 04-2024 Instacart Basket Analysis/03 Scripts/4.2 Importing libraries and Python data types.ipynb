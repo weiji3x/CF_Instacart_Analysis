{
 "cells": [
  {
   "cell_type": "markdown",
   "id": "cf0eed00-c6be-41c6-9b74-3f1e8f2dcbee",
   "metadata": {},
   "source": [
    "# 01. Importing libraries"
   ]
  },
  {
   "cell_type": "code",
   "execution_count": 3,
   "id": "b2f6bc00-e4e0-4e1d-aa62-bbfaf3153697",
   "metadata": {},
   "outputs": [],
   "source": [
    "# Import libraries\n",
    "import pandas as pd\n",
    "import numpy as np\n",
    "import os"
   ]
  },
  {
   "cell_type": "markdown",
   "id": "500fa1bd-e424-4bda-bda4-973205043b9d",
   "metadata": {},
   "source": [
    "# 02. Python Data Type"
   ]
  },
  {
   "cell_type": "code",
   "execution_count": 1,
   "id": "fd98bc58-d776-43d4-9dd9-e0f96f29c9df",
   "metadata": {},
   "outputs": [],
   "source": [
    "# 3 Ways of reaching a result of 100"
   ]
  },
  {
   "cell_type": "code",
   "execution_count": 2,
   "id": "930698c1-6baa-4300-9735-5f86e26ec41b",
   "metadata": {},
   "outputs": [
    {
     "data": {
      "text/plain": [
       "100"
      ]
     },
     "execution_count": 2,
     "metadata": {},
     "output_type": "execute_result"
    }
   ],
   "source": [
    "a = 99\n",
    "b = 1\n",
    "a + b"
   ]
  },
  {
   "cell_type": "code",
   "execution_count": 3,
   "id": "19e53417-5997-425e-bdd8-b12dd2fc437d",
   "metadata": {},
   "outputs": [
    {
     "data": {
      "text/plain": [
       "100"
      ]
     },
     "execution_count": 3,
     "metadata": {},
     "output_type": "execute_result"
    }
   ],
   "source": [
    "c = 121\n",
    "d = 21\n",
    "c - d"
   ]
  },
  {
   "cell_type": "code",
   "execution_count": 4,
   "id": "0163c309-0d34-42b4-897e-ab89e51806fb",
   "metadata": {},
   "outputs": [
    {
     "data": {
      "text/plain": [
       "100"
      ]
     },
     "execution_count": 4,
     "metadata": {},
     "output_type": "execute_result"
    }
   ],
   "source": [
    "e = 153\n",
    "f = 69\n",
    "g = 16\n",
    "e - f + g"
   ]
  },
  {
   "cell_type": "code",
   "execution_count": 5,
   "id": "27c62b06-7981-46f0-903b-1cdcc6e66d5d",
   "metadata": {},
   "outputs": [],
   "source": [
    "# Floating point variable"
   ]
  },
  {
   "cell_type": "code",
   "execution_count": 6,
   "id": "7f90d6de-e2b0-4c49-8d52-866e7b2bec21",
   "metadata": {},
   "outputs": [
    {
     "data": {
      "text/plain": [
       "37.13008130081301"
      ]
     },
     "execution_count": 6,
     "metadata": {},
     "output_type": "execute_result"
    }
   ],
   "source": [
    "h = 0.123\n",
    "i = 4.567\n",
    "i / h"
   ]
  },
  {
   "cell_type": "code",
   "execution_count": 7,
   "id": "69042e1e-a6dc-4910-9b8b-d5cc8a423aa1",
   "metadata": {},
   "outputs": [],
   "source": [
    "# String Word Concatenation"
   ]
  },
  {
   "cell_type": "code",
   "execution_count": 15,
   "id": "2f2f7b25-4752-43c1-9c45-dc5491fc8cf6",
   "metadata": {},
   "outputs": [
    {
     "data": {
      "text/plain": [
       "'concatenate'"
      ]
     },
     "execution_count": 15,
     "metadata": {},
     "output_type": "execute_result"
    }
   ],
   "source": [
    "j = 'concate'\n",
    "k = 'nate'\n",
    "j + k"
   ]
  },
  {
   "cell_type": "code",
   "execution_count": 16,
   "id": "2272a749-6f83-48a0-bc1c-12518e5105b3",
   "metadata": {},
   "outputs": [],
   "source": [
    "# String Sentence Concatenation"
   ]
  },
  {
   "cell_type": "code",
   "execution_count": 17,
   "id": "4626c8be-9bb1-4020-8ddc-b13c9055bfcb",
   "metadata": {},
   "outputs": [
    {
     "data": {
      "text/plain": [
       "'This is exercise 4.2.'"
      ]
     },
     "execution_count": 17,
     "metadata": {},
     "output_type": "execute_result"
    }
   ],
   "source": [
    "l = 'This is '\n",
    "m = 'exercise '\n",
    "n = '4.2.'\n",
    "l + m + n"
   ]
  },
  {
   "cell_type": "code",
   "execution_count": 18,
   "id": "e8201c1d-6b79-431c-9210-b2e67f0fe7d5",
   "metadata": {},
   "outputs": [
    {
     "data": {
      "text/plain": [
       "'Exercise 4.2 is about importing libraries and Python data types.'"
      ]
     },
     "execution_count": 18,
     "metadata": {},
     "output_type": "execute_result"
    }
   ],
   "source": [
    "o = 'Exercise 4.2 '\n",
    "p = 'is about '\n",
    "q = 'importing libraries and '\n",
    "r = 'Python data types.'\n",
    "o + p + q + r"
   ]
  }
 ],
 "metadata": {
  "kernelspec": {
   "display_name": "Python 3 (ipykernel)",
   "language": "python",
   "name": "python3"
  },
  "language_info": {
   "codemirror_mode": {
    "name": "ipython",
    "version": 3
   },
   "file_extension": ".py",
   "mimetype": "text/x-python",
   "name": "python",
   "nbconvert_exporter": "python",
   "pygments_lexer": "ipython3",
   "version": "3.11.7"
  }
 },
 "nbformat": 4,
 "nbformat_minor": 5
}
